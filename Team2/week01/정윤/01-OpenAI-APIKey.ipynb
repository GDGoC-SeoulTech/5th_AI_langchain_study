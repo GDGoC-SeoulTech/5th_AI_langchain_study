{
 "cells": [
  {
   "cell_type": "markdown",
   "metadata": {},
   "source": [
    "## OpenAI API 키 발급 및 설정\n",
    "\n",
    "1. OpenAI API 키 발급\n",
    "\n",
    "- [OpenAI API 키 발급방법](https://wikidocs.net/233342) 글을 참고해 주세요.\n",
    "\n",
    "1. `.env` 파일 설정\n",
    "\n",
    "- 프로젝트 루트 디렉토리에 `.env` 파일을 생성합니다.\n",
    "- 파일에 API 키를 다음 형식으로 저장합니다:\n",
    "  `OPENAI_API_KEY` 에 발급받은 API KEY 를 입력합니다.\n",
    "\n",
    "- `.env` 파일에 발급한 API KEY 를 입력합니다.\n"
   ]
  },
  {
   "cell_type": "code",
   "execution_count": null,
   "metadata": {},
   "outputs": [
    {
     "name": "stdout",
     "output_type": "stream",
     "text": [
      "Collecting langchain-upstage\n",
      "  Downloading langchain_upstage-0.7.3-py3-none-any.whl.metadata (3.3 kB)\n",
      "Requirement already satisfied: langchain-core<0.4.0,>=0.3.29 in c:\\users\\itisyijy\\appdata\\local\\pypoetry\\cache\\virtualenvs\\langchain-kr-rgck9w_g-py3.11\\lib\\site-packages (from langchain-upstage) (0.3.46)\n",
      "Requirement already satisfied: langchain-openai<0.4,>=0.3 in c:\\users\\itisyijy\\appdata\\local\\pypoetry\\cache\\virtualenvs\\langchain-kr-rgck9w_g-py3.11\\lib\\site-packages (from langchain-upstage) (0.3.9)\n",
      "Requirement already satisfied: pypdf<5.0.0,>=4.2.0 in c:\\users\\itisyijy\\appdata\\local\\pypoetry\\cache\\virtualenvs\\langchain-kr-rgck9w_g-py3.11\\lib\\site-packages (from langchain-upstage) (4.3.1)\n",
      "Requirement already satisfied: requests<3.0.0,>=2.31.0 in c:\\users\\itisyijy\\appdata\\local\\pypoetry\\cache\\virtualenvs\\langchain-kr-rgck9w_g-py3.11\\lib\\site-packages (from langchain-upstage) (2.32.5)\n",
      "Collecting tokenizers<0.21.0,>=0.20.0 (from langchain-upstage)\n",
      "  Downloading tokenizers-0.20.3-cp311-none-win_amd64.whl.metadata (6.9 kB)\n",
      "Requirement already satisfied: langsmith<0.4,>=0.1.125 in c:\\users\\itisyijy\\appdata\\local\\pypoetry\\cache\\virtualenvs\\langchain-kr-rgck9w_g-py3.11\\lib\\site-packages (from langchain-core<0.4.0,>=0.3.29->langchain-upstage) (0.3.18)\n",
      "Requirement already satisfied: tenacity!=8.4.0,<10.0.0,>=8.1.0 in c:\\users\\itisyijy\\appdata\\local\\pypoetry\\cache\\virtualenvs\\langchain-kr-rgck9w_g-py3.11\\lib\\site-packages (from langchain-core<0.4.0,>=0.3.29->langchain-upstage) (8.5.0)\n",
      "Requirement already satisfied: jsonpatch<2.0,>=1.33 in c:\\users\\itisyijy\\appdata\\local\\pypoetry\\cache\\virtualenvs\\langchain-kr-rgck9w_g-py3.11\\lib\\site-packages (from langchain-core<0.4.0,>=0.3.29->langchain-upstage) (1.33)\n",
      "Requirement already satisfied: PyYAML>=5.3 in c:\\users\\itisyijy\\appdata\\local\\pypoetry\\cache\\virtualenvs\\langchain-kr-rgck9w_g-py3.11\\lib\\site-packages (from langchain-core<0.4.0,>=0.3.29->langchain-upstage) (6.0.3)\n",
      "Requirement already satisfied: packaging<25,>=23.2 in c:\\users\\itisyijy\\appdata\\local\\pypoetry\\cache\\virtualenvs\\langchain-kr-rgck9w_g-py3.11\\lib\\site-packages (from langchain-core<0.4.0,>=0.3.29->langchain-upstage) (24.2)\n",
      "Requirement already satisfied: typing-extensions>=4.7 in c:\\users\\itisyijy\\appdata\\local\\pypoetry\\cache\\virtualenvs\\langchain-kr-rgck9w_g-py3.11\\lib\\site-packages (from langchain-core<0.4.0,>=0.3.29->langchain-upstage) (4.15.0)\n",
      "Requirement already satisfied: pydantic<3.0.0,>=2.5.2 in c:\\users\\itisyijy\\appdata\\local\\pypoetry\\cache\\virtualenvs\\langchain-kr-rgck9w_g-py3.11\\lib\\site-packages (from langchain-core<0.4.0,>=0.3.29->langchain-upstage) (2.10.6)\n",
      "Requirement already satisfied: jsonpointer>=1.9 in c:\\users\\itisyijy\\appdata\\local\\pypoetry\\cache\\virtualenvs\\langchain-kr-rgck9w_g-py3.11\\lib\\site-packages (from jsonpatch<2.0,>=1.33->langchain-core<0.4.0,>=0.3.29->langchain-upstage) (3.0.0)\n",
      "Requirement already satisfied: openai<2.0.0,>=1.66.3 in c:\\users\\itisyijy\\appdata\\local\\pypoetry\\cache\\virtualenvs\\langchain-kr-rgck9w_g-py3.11\\lib\\site-packages (from langchain-openai<0.4,>=0.3->langchain-upstage) (1.67.0)\n",
      "Requirement already satisfied: tiktoken<1,>=0.7 in c:\\users\\itisyijy\\appdata\\local\\pypoetry\\cache\\virtualenvs\\langchain-kr-rgck9w_g-py3.11\\lib\\site-packages (from langchain-openai<0.4,>=0.3->langchain-upstage) (0.9.0)\n",
      "Requirement already satisfied: httpx<1,>=0.23.0 in c:\\users\\itisyijy\\appdata\\local\\pypoetry\\cache\\virtualenvs\\langchain-kr-rgck9w_g-py3.11\\lib\\site-packages (from langsmith<0.4,>=0.1.125->langchain-core<0.4.0,>=0.3.29->langchain-upstage) (0.28.1)\n",
      "Requirement already satisfied: orjson<4.0.0,>=3.9.14 in c:\\users\\itisyijy\\appdata\\local\\pypoetry\\cache\\virtualenvs\\langchain-kr-rgck9w_g-py3.11\\lib\\site-packages (from langsmith<0.4,>=0.1.125->langchain-core<0.4.0,>=0.3.29->langchain-upstage) (3.11.3)\n",
      "Requirement already satisfied: requests-toolbelt<2.0.0,>=1.0.0 in c:\\users\\itisyijy\\appdata\\local\\pypoetry\\cache\\virtualenvs\\langchain-kr-rgck9w_g-py3.11\\lib\\site-packages (from langsmith<0.4,>=0.1.125->langchain-core<0.4.0,>=0.3.29->langchain-upstage) (1.0.0)\n",
      "Requirement already satisfied: zstandard<0.24.0,>=0.23.0 in c:\\users\\itisyijy\\appdata\\local\\pypoetry\\cache\\virtualenvs\\langchain-kr-rgck9w_g-py3.11\\lib\\site-packages (from langsmith<0.4,>=0.1.125->langchain-core<0.4.0,>=0.3.29->langchain-upstage) (0.23.0)\n",
      "Requirement already satisfied: anyio in c:\\users\\itisyijy\\appdata\\local\\pypoetry\\cache\\virtualenvs\\langchain-kr-rgck9w_g-py3.11\\lib\\site-packages (from httpx<1,>=0.23.0->langsmith<0.4,>=0.1.125->langchain-core<0.4.0,>=0.3.29->langchain-upstage) (4.11.0)\n",
      "Requirement already satisfied: certifi in c:\\users\\itisyijy\\appdata\\local\\pypoetry\\cache\\virtualenvs\\langchain-kr-rgck9w_g-py3.11\\lib\\site-packages (from httpx<1,>=0.23.0->langsmith<0.4,>=0.1.125->langchain-core<0.4.0,>=0.3.29->langchain-upstage) (2025.8.3)\n",
      "Requirement already satisfied: httpcore==1.* in c:\\users\\itisyijy\\appdata\\local\\pypoetry\\cache\\virtualenvs\\langchain-kr-rgck9w_g-py3.11\\lib\\site-packages (from httpx<1,>=0.23.0->langsmith<0.4,>=0.1.125->langchain-core<0.4.0,>=0.3.29->langchain-upstage) (1.0.9)\n",
      "Requirement already satisfied: idna in c:\\users\\itisyijy\\appdata\\local\\pypoetry\\cache\\virtualenvs\\langchain-kr-rgck9w_g-py3.11\\lib\\site-packages (from httpx<1,>=0.23.0->langsmith<0.4,>=0.1.125->langchain-core<0.4.0,>=0.3.29->langchain-upstage) (3.10)\n",
      "Requirement already satisfied: h11>=0.16 in c:\\users\\itisyijy\\appdata\\local\\pypoetry\\cache\\virtualenvs\\langchain-kr-rgck9w_g-py3.11\\lib\\site-packages (from httpcore==1.*->httpx<1,>=0.23.0->langsmith<0.4,>=0.1.125->langchain-core<0.4.0,>=0.3.29->langchain-upstage) (0.16.0)\n",
      "Requirement already satisfied: distro<2,>=1.7.0 in c:\\users\\itisyijy\\appdata\\local\\pypoetry\\cache\\virtualenvs\\langchain-kr-rgck9w_g-py3.11\\lib\\site-packages (from openai<2.0.0,>=1.66.3->langchain-openai<0.4,>=0.3->langchain-upstage) (1.9.0)\n",
      "Requirement already satisfied: jiter<1,>=0.4.0 in c:\\users\\itisyijy\\appdata\\local\\pypoetry\\cache\\virtualenvs\\langchain-kr-rgck9w_g-py3.11\\lib\\site-packages (from openai<2.0.0,>=1.66.3->langchain-openai<0.4,>=0.3->langchain-upstage) (0.10.0)\n",
      "Requirement already satisfied: sniffio in c:\\users\\itisyijy\\appdata\\local\\pypoetry\\cache\\virtualenvs\\langchain-kr-rgck9w_g-py3.11\\lib\\site-packages (from openai<2.0.0,>=1.66.3->langchain-openai<0.4,>=0.3->langchain-upstage) (1.3.1)\n",
      "Requirement already satisfied: tqdm>4 in c:\\users\\itisyijy\\appdata\\local\\pypoetry\\cache\\virtualenvs\\langchain-kr-rgck9w_g-py3.11\\lib\\site-packages (from openai<2.0.0,>=1.66.3->langchain-openai<0.4,>=0.3->langchain-upstage) (4.67.1)\n",
      "Requirement already satisfied: annotated-types>=0.6.0 in c:\\users\\itisyijy\\appdata\\local\\pypoetry\\cache\\virtualenvs\\langchain-kr-rgck9w_g-py3.11\\lib\\site-packages (from pydantic<3.0.0,>=2.5.2->langchain-core<0.4.0,>=0.3.29->langchain-upstage) (0.7.0)\n",
      "Requirement already satisfied: pydantic-core==2.27.2 in c:\\users\\itisyijy\\appdata\\local\\pypoetry\\cache\\virtualenvs\\langchain-kr-rgck9w_g-py3.11\\lib\\site-packages (from pydantic<3.0.0,>=2.5.2->langchain-core<0.4.0,>=0.3.29->langchain-upstage) (2.27.2)\n",
      "Requirement already satisfied: charset_normalizer<4,>=2 in c:\\users\\itisyijy\\appdata\\local\\pypoetry\\cache\\virtualenvs\\langchain-kr-rgck9w_g-py3.11\\lib\\site-packages (from requests<3.0.0,>=2.31.0->langchain-upstage) (3.4.3)\n",
      "Requirement already satisfied: urllib3<3,>=1.21.1 in c:\\users\\itisyijy\\appdata\\local\\pypoetry\\cache\\virtualenvs\\langchain-kr-rgck9w_g-py3.11\\lib\\site-packages (from requests<3.0.0,>=2.31.0->langchain-upstage) (2.3.0)\n",
      "Requirement already satisfied: regex>=2022.1.18 in c:\\users\\itisyijy\\appdata\\local\\pypoetry\\cache\\virtualenvs\\langchain-kr-rgck9w_g-py3.11\\lib\\site-packages (from tiktoken<1,>=0.7->langchain-openai<0.4,>=0.3->langchain-upstage) (2025.9.18)\n",
      "Requirement already satisfied: huggingface-hub<1.0,>=0.16.4 in c:\\users\\itisyijy\\appdata\\local\\pypoetry\\cache\\virtualenvs\\langchain-kr-rgck9w_g-py3.11\\lib\\site-packages (from tokenizers<0.21.0,>=0.20.0->langchain-upstage) (0.29.3)\n",
      "Requirement already satisfied: filelock in c:\\users\\itisyijy\\appdata\\local\\pypoetry\\cache\\virtualenvs\\langchain-kr-rgck9w_g-py3.11\\lib\\site-packages (from huggingface-hub<1.0,>=0.16.4->tokenizers<0.21.0,>=0.20.0->langchain-upstage) (3.19.1)\n",
      "Requirement already satisfied: fsspec>=2023.5.0 in c:\\users\\itisyijy\\appdata\\local\\pypoetry\\cache\\virtualenvs\\langchain-kr-rgck9w_g-py3.11\\lib\\site-packages (from huggingface-hub<1.0,>=0.16.4->tokenizers<0.21.0,>=0.20.0->langchain-upstage) (2025.9.0)\n",
      "Requirement already satisfied: colorama in c:\\users\\itisyijy\\appdata\\local\\pypoetry\\cache\\virtualenvs\\langchain-kr-rgck9w_g-py3.11\\lib\\site-packages (from tqdm>4->openai<2.0.0,>=1.66.3->langchain-openai<0.4,>=0.3->langchain-upstage) (0.4.6)\n",
      "Downloading langchain_upstage-0.7.3-py3-none-any.whl (25 kB)\n",
      "Downloading tokenizers-0.20.3-cp311-none-win_amd64.whl (2.4 MB)\n",
      "   ---------------------------------------- 0.0/2.4 MB ? eta -:--:--\n",
      "   ---------------------------------------- 2.4/2.4 MB 15.0 MB/s  0:00:00\n",
      "Installing collected packages: tokenizers, langchain-upstage\n",
      "\n",
      "  Attempting uninstall: tokenizers\n",
      "\n",
      "    Found existing installation: tokenizers 0.21.4\n",
      "\n",
      "    Uninstalling tokenizers-0.21.4:\n",
      "\n",
      "      Successfully uninstalled tokenizers-0.21.4\n",
      "\n",
      "   ---------------------------------------- 0/2 [tokenizers]\n",
      "   -------------------- ------------------- 1/2 [langchain-upstage]\n",
      "   ---------------------------------------- 2/2 [langchain-upstage]\n",
      "\n",
      "Successfully installed langchain-upstage-0.7.3 tokenizers-0.20.3\n"
     ]
    },
    {
     "name": "stderr",
     "output_type": "stream",
     "text": [
      "ERROR: pip's dependency resolver does not currently take into account all the packages that are installed. This behaviour is the source of the following dependency conflicts.\n",
      "transformers 4.50.3 requires tokenizers<0.22,>=0.21, but you have tokenizers 0.20.3 which is incompatible.\n"
     ]
    }
   ],
   "source": [
    "# LangChain 업데이트\n",
    "# !pip install -r https://raw.githubusercontent.com/teddylee777/langchain-kr/main/requirements.txt\n",
    "# !pip install -U langchain-upstage"
   ]
  },
  {
   "cell_type": "code",
   "execution_count": 1,
   "metadata": {},
   "outputs": [
    {
     "data": {
      "text/plain": [
       "True"
      ]
     },
     "execution_count": 1,
     "metadata": {},
     "output_type": "execute_result"
    }
   ],
   "source": [
    "# API KEY를 환경변수로 관리하기 위한 설정 파일\n",
    "from dotenv import load_dotenv\n",
    "\n",
    "# API KEY 정보로드\n",
    "load_dotenv()"
   ]
  },
  {
   "cell_type": "markdown",
   "metadata": {},
   "source": [
    "API Key 가 잘 설정되었는지 확인합니다.\n"
   ]
  },
  {
   "cell_type": "code",
   "execution_count": 3,
   "metadata": {},
   "outputs": [
    {
     "name": "stdout",
     "output_type": "stream",
     "text": [
      "[API KEY]\n",
      "***************\n"
     ]
    }
   ],
   "source": [
    "import os\n",
    "\n",
    "print(f\"[API KEY]\\n{os.environ['OPENAI_API_KEY'][:-15]}\" + \"*\" * 15)"
   ]
  },
  {
   "cell_type": "markdown",
   "metadata": {},
   "source": [
    "설치된 LangChain 버전을 확인합니다."
   ]
  },
  {
   "cell_type": "code",
   "execution_count": 6,
   "metadata": {},
   "outputs": [
    {
     "name": "stdout",
     "output_type": "stream",
     "text": [
      "[LangChain 관련 패키지 버전]\n",
      "langchain: 0.3.21\n",
      "langchain-core: 0.3.46\n",
      "langchain-experimental: 0.3.4\n",
      "langchain-community: 0.3.20\n",
      "langchain-openai: 0.3.9\n",
      "langchain-teddynote: 0.3.44\n",
      "langchain-huggingface: 0.1.2\n",
      "langchain-google-genai: 2.1.0\n",
      "langchain-anthropic: 0.3.10\n",
      "langchain-cohere: 0.4.3\n",
      "langchain-chroma: 0.2.2\n",
      "langchain-elasticsearch: 0.3.2\n",
      "langchain-upstage: 0.7.3\n",
      "langchain-cohere: 0.4.3\n",
      "langchain-milvus: 0.1.8\n",
      "langchain-text-splitters: 0.3.7\n"
     ]
    }
   ],
   "source": [
    "from importlib.metadata import version\n",
    "\n",
    "print(\"[LangChain 관련 패키지 버전]\")\n",
    "for package_name in [\n",
    "    \"langchain\",\n",
    "    \"langchain-core\",\n",
    "    \"langchain-experimental\",\n",
    "    \"langchain-community\",\n",
    "    \"langchain-openai\",\n",
    "    \"langchain-teddynote\",\n",
    "    \"langchain-huggingface\",\n",
    "    \"langchain-google-genai\",\n",
    "    \"langchain-anthropic\",\n",
    "    \"langchain-cohere\",\n",
    "    \"langchain-chroma\",\n",
    "    \"langchain-elasticsearch\",\n",
    "    \"langchain-upstage\",\n",
    "    \"langchain-cohere\",\n",
    "    \"langchain-milvus\",\n",
    "    \"langchain-text-splitters\",\n",
    "]:\n",
    "    try:\n",
    "        package_version = version(package_name)\n",
    "        print(f\"{package_name}: {package_version}\")\n",
    "    except ImportError:\n",
    "        print(f\"{package_name}: 설치되지 않음\")"
   ]
  }
 ],
 "metadata": {
  "kernelspec": {
   "display_name": "langchain-kr-RgCK9W_G-py3.11",
   "language": "python",
   "name": "python3"
  },
  "language_info": {
   "codemirror_mode": {
    "name": "ipython",
    "version": 3
   },
   "file_extension": ".py",
   "mimetype": "text/x-python",
   "name": "python",
   "nbconvert_exporter": "python",
   "pygments_lexer": "ipython3",
   "version": "3.11.9"
  }
 },
 "nbformat": 4,
 "nbformat_minor": 2
}
