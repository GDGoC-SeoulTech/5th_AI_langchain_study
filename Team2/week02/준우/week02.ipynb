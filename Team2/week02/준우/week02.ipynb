{
 "cells": [
  {
   "metadata": {},
   "cell_type": "markdown",
   "source": "# 01. 프롬프트(Prompt)",
   "id": "78792e01e5192922"
  },
  {
   "metadata": {},
   "cell_type": "markdown",
   "source": "## PromptTemplate",
   "id": "a343326b87c6a4a5"
  },
  {
   "cell_type": "code",
   "id": "initial_id",
   "metadata": {
    "collapsed": true,
    "ExecuteTime": {
     "end_time": "2025-10-31T13:27:35.050353Z",
     "start_time": "2025-10-31T13:27:35.020310Z"
    }
   },
   "source": [
    "from dotenv import load_dotenv\n",
    "\n",
    "load_dotenv()"
   ],
   "outputs": [
    {
     "data": {
      "text/plain": [
       "True"
      ]
     },
     "execution_count": 1,
     "metadata": {},
     "output_type": "execute_result"
    }
   ],
   "execution_count": 1
  },
  {
   "metadata": {
    "ExecuteTime": {
     "end_time": "2025-10-31T13:27:51.162752Z",
     "start_time": "2025-10-31T13:27:51.157358Z"
    }
   },
   "cell_type": "code",
   "source": [
    "# LangSmith 추적을 설정합니다. https://smith.langchain.com\n",
    "# !pip install -qU langchain-teddynote\n",
    "from langchain_teddynote import logging\n",
    "\n",
    "# 프로젝트 이름을 입력합니다.\n",
    "logging.langsmith(\"CH02-Prompt-Junu\")"
   ],
   "id": "16acc7f681afa276",
   "outputs": [
    {
     "name": "stdout",
     "output_type": "stream",
     "text": [
      "LangSmith 추적을 시작합니다.\n",
      "[프로젝트명]\n",
      "CH02-Prompt-Junu\n"
     ]
    }
   ],
   "execution_count": 3
  },
  {
   "metadata": {},
   "cell_type": "markdown",
   "source": "LLM 객체를 정의합니다.",
   "id": "b399938dc208cd70"
  },
  {
   "metadata": {
    "ExecuteTime": {
     "end_time": "2025-10-31T13:28:47.522387Z",
     "start_time": "2025-10-31T13:28:14.380935Z"
    }
   },
   "cell_type": "code",
   "source": [
    "from langchain_openai import ChatOpenAI\n",
    "\n",
    "llm = ChatOpenAI()"
   ],
   "id": "9e99786a566b9a8",
   "outputs": [],
   "execution_count": 4
  },
  {
   "metadata": {},
   "cell_type": "markdown",
   "source": "## 방법 1. from_template() 메소드를 사용하여 PromptTemplate 객체 생성",
   "id": "8d3a378dd22acd63"
  },
  {
   "metadata": {},
   "cell_type": "markdown",
   "source": "치환될 변수를 { 변수 } 로 묶어서 템플릿을 정의합니다.",
   "id": "96d4047fb17f328c"
  },
  {
   "metadata": {
    "ExecuteTime": {
     "end_time": "2025-10-31T13:33:25.753596Z",
     "start_time": "2025-10-31T13:33:25.746590Z"
    }
   },
   "cell_type": "code",
   "source": [
    "from langchain_core.prompts import PromptTemplate\n",
    "\n",
    "# template 정의. {country}는 변수로, 이후에 값이 들어갈 자리를 의미\n",
    "template = \"{DriverName}의 현재 F1 팀 소속은 어디인가요?\"\n",
    "\n",
    "# from_template 메소드를 이용하여 PromptTemplate 객체 생성\n",
    "prompt = PromptTemplate.from_template(template)\n",
    "prompt\n"
   ],
   "id": "80e189faabbe8ac0",
   "outputs": [
    {
     "data": {
      "text/plain": [
       "PromptTemplate(input_variables=['DriverName'], input_types={}, partial_variables={}, template='{DriverName}의 현재 F1 팀 소속은 어디인가요?')"
      ]
     },
     "execution_count": 8,
     "metadata": {},
     "output_type": "execute_result"
    }
   ],
   "execution_count": 8
  },
  {
   "metadata": {
    "ExecuteTime": {
     "end_time": "2025-10-31T13:31:06.405683Z",
     "start_time": "2025-10-31T13:31:06.370544Z"
    }
   },
   "cell_type": "markdown",
   "source": "변수에 값을 넣어서 문장을 생성할 수 있습니다.",
   "id": "972e33cdd322d87f"
  },
  {
   "metadata": {
    "ExecuteTime": {
     "end_time": "2025-10-31T13:33:28.803705Z",
     "start_time": "2025-10-31T13:33:28.796854Z"
    }
   },
   "cell_type": "code",
   "source": [
    "prompt = prompt.format(DriverName=\"Oliver Bearman\")\n",
    "prompt"
   ],
   "id": "1b2ab16e1fd7fd8d",
   "outputs": [
    {
     "data": {
      "text/plain": [
       "'Oliver Bearman의 현재 F1 팀 소속은 어디인가요?'"
      ]
     },
     "execution_count": 9,
     "metadata": {},
     "output_type": "execute_result"
    }
   ],
   "execution_count": 9
  },
  {
   "metadata": {
    "ExecuteTime": {
     "end_time": "2025-10-31T13:34:12.274037Z",
     "start_time": "2025-10-31T13:34:12.268506Z"
    }
   },
   "cell_type": "code",
   "source": [
    "# from_template 메소드를 이용하여 PromptTemplate 객체 생성\n",
    "prompt = PromptTemplate.from_template(template)\n",
    "\n",
    "# chain 생성\n",
    "chain = prompt | llm"
   ],
   "id": "96368252759f03c",
   "outputs": [],
   "execution_count": 10
  },
  {
   "metadata": {
    "ExecuteTime": {
     "end_time": "2025-10-31T13:34:29.771324Z",
     "start_time": "2025-10-31T13:34:27.994Z"
    }
   },
   "cell_type": "code",
   "source": "chain.invoke(\"Oliver Bearman\").content",
   "id": "88a28bc42c3909d5",
   "outputs": [
    {
     "data": {
      "text/plain": [
       "'Oliver Bearman은 현재 Red Bull Junior Team 소속입니다.'"
      ]
     },
     "execution_count": 11,
     "metadata": {},
     "output_type": "execute_result"
    }
   ],
   "execution_count": 11
  },
  {
   "metadata": {},
   "cell_type": "markdown",
   "source": "## 방법 2. PromptTemplate 객체 생성과 동시에 prompt 생성",
   "id": "562a18bc43d44afa"
  },
  {
   "metadata": {
    "ExecuteTime": {
     "end_time": "2025-10-31T13:39:34.937507Z",
     "start_time": "2025-10-31T13:39:34.930368Z"
    }
   },
   "cell_type": "code",
   "source": [
    "# template 정의\n",
    "template = \"{DriverName}의 현재 F1 팀 소속은 어디인가요?\"\n",
    "\n",
    "# PromptTemplate 객체를 활용하여 prompt_template 생성\n",
    "prompt = PromptTemplate(\n",
    "    template=template,\n",
    "    input_variables=[\"DriverName\"],\n",
    ")\n",
    "\n",
    "prompt\n"
   ],
   "id": "cbea50288cbb035e",
   "outputs": [
    {
     "data": {
      "text/plain": [
       "PromptTemplate(input_variables=['DriverName'], input_types={}, partial_variables={}, template='{DriverName}의 현재 F1 팀 소속은 어디인가요?')"
      ]
     },
     "execution_count": 12,
     "metadata": {},
     "output_type": "execute_result"
    }
   ],
   "execution_count": 12
  },
  {
   "metadata": {
    "ExecuteTime": {
     "end_time": "2025-10-31T13:41:11.225284Z",
     "start_time": "2025-10-31T13:41:11.219718Z"
    }
   },
   "cell_type": "code",
   "source": [
    "# prompt 생성\n",
    "prompt.format(DriverName=\"Oliver Bearman\")"
   ],
   "id": "8985f6f8863a1319",
   "outputs": [
    {
     "data": {
      "text/plain": [
       "'Oliver Bearman의 현재 F1 팀 소속은 어디인가요?'"
      ]
     },
     "execution_count": 13,
     "metadata": {},
     "output_type": "execute_result"
    }
   ],
   "execution_count": 13
  },
  {
   "metadata": {
    "ExecuteTime": {
     "end_time": "2025-10-31T13:45:53.938756Z",
     "start_time": "2025-10-31T13:45:53.931973Z"
    }
   },
   "cell_type": "code",
   "source": [
    "# template 정의\n",
    "template = \"{team_name1}과 {team_name2}의 소속 나라는 각각 어디인가요?\"\n",
    "\n",
    "# PromptTemplate 객체를 활용하여 prompt_template 생성\n",
    "prompt = PromptTemplate(\n",
    "    template=template,\n",
    "    input_variables=[\"team_name1\"],\n",
    "    partial_variables={\n",
    "        \"team_name2\": \"Racing bulls\"  # dictionary 형태로 partial_variables를 전달\n",
    "    },\n",
    ")\n",
    "\n",
    "prompt"
   ],
   "id": "b80f84cfb95dcc0e",
   "outputs": [
    {
     "data": {
      "text/plain": [
       "PromptTemplate(input_variables=['team_name1'], input_types={}, partial_variables={'team_name2': 'Racing bulls'}, template='{team_name1}과 {team_name2}의 소속 나라는 각각 어디인가요?')"
      ]
     },
     "execution_count": 15,
     "metadata": {},
     "output_type": "execute_result"
    }
   ],
   "execution_count": 15
  },
  {
   "metadata": {
    "ExecuteTime": {
     "end_time": "2025-10-31T13:46:07.211859Z",
     "start_time": "2025-10-31T13:46:07.204969Z"
    }
   },
   "cell_type": "code",
   "source": "prompt.format(team_name1=\"Haas MoneyGram F1\")",
   "id": "2d0398d7e9038867",
   "outputs": [
    {
     "data": {
      "text/plain": [
       "'Haas MoneyGram F1과 Racing bulls의 소속 나라는 각각 어디인가요?'"
      ]
     },
     "execution_count": 16,
     "metadata": {},
     "output_type": "execute_result"
    }
   ],
   "execution_count": 16
  },
  {
   "metadata": {
    "ExecuteTime": {
     "end_time": "2025-10-31T13:46:38.994503Z",
     "start_time": "2025-10-31T13:46:38.988729Z"
    }
   },
   "cell_type": "code",
   "source": [
    "prompt_partial = prompt.partial(team_name2=\"Ferrari\")\n",
    "prompt_partial"
   ],
   "id": "af837646258ec944",
   "outputs": [
    {
     "data": {
      "text/plain": [
       "PromptTemplate(input_variables=['team_name1'], input_types={}, partial_variables={'team_name2': 'Ferrari'}, template='{team_name1}과 {team_name2}의 소속 나라는 각각 어디인가요?')"
      ]
     },
     "execution_count": 17,
     "metadata": {},
     "output_type": "execute_result"
    }
   ],
   "execution_count": 17
  },
  {
   "metadata": {
    "ExecuteTime": {
     "end_time": "2025-10-31T13:47:01.184006Z",
     "start_time": "2025-10-31T13:47:01.178861Z"
    }
   },
   "cell_type": "code",
   "source": "prompt_partial.format(team_name1=\"Haas MoneyGram F1\")",
   "id": "4d82235d28dc0524",
   "outputs": [
    {
     "data": {
      "text/plain": [
       "'Haas MoneyGram F1과 Ferrari의 소속 나라는 각각 어디인가요?'"
      ]
     },
     "execution_count": 18,
     "metadata": {},
     "output_type": "execute_result"
    }
   ],
   "execution_count": 18
  },
  {
   "metadata": {
    "ExecuteTime": {
     "end_time": "2025-10-31T13:47:07.336999Z",
     "start_time": "2025-10-31T13:47:07.332853Z"
    }
   },
   "cell_type": "code",
   "source": "chain = prompt_partial | llm",
   "id": "46430b3016a919c0",
   "outputs": [],
   "execution_count": 19
  },
  {
   "metadata": {
    "ExecuteTime": {
     "end_time": "2025-10-31T13:49:01.978385Z",
     "start_time": "2025-10-31T13:49:00.276704Z"
    }
   },
   "cell_type": "code",
   "source": "chain.invoke(\"Haas MoneyGram F1\").content",
   "id": "2a3d98e846fd9237",
   "outputs": [
    {
     "data": {
      "text/plain": [
       "'Haas F1 팀은 미국을 대표하는 F1 팀이며, 소속 나라는 미국입니다. 반면에 Ferrari는 이탈리아를 대표하는 F1 팀으로, 소속 나라는 이탈리아입니다.'"
      ]
     },
     "execution_count": 22,
     "metadata": {},
     "output_type": "execute_result"
    }
   ],
   "execution_count": 22
  },
  {
   "metadata": {
    "ExecuteTime": {
     "end_time": "2025-10-31T13:49:51.130219Z",
     "start_time": "2025-10-31T13:49:50.495391Z"
    }
   },
   "cell_type": "code",
   "source": "chain.invoke({\"team_name1\" : \"Haas MoneyGram F1\", \"team_name2\" : \"Ferrari\",}).content",
   "id": "cdbc123e79d03440",
   "outputs": [
    {
     "data": {
      "text/plain": [
       "'Haas MoneyGram F1은 미국 소속이며, Ferrari는 이탈리아 소속입니다.'"
      ]
     },
     "execution_count": 23,
     "metadata": {},
     "output_type": "execute_result"
    }
   ],
   "execution_count": 23
  },
  {
   "metadata": {},
   "cell_type": "markdown",
   "source": "### 날짜 예시",
   "id": "b3ecfec0b7aaabed"
  },
  {
   "metadata": {
    "ExecuteTime": {
     "end_time": "2025-10-31T14:04:57.450713Z",
     "start_time": "2025-10-31T14:04:57.436168Z"
    }
   },
   "cell_type": "code",
   "source": [
    "from datetime import datetime\n",
    "\n",
    "# 오늘 날짜를 출력\n",
    "datetime.now().strftime(\"%B %d\")"
   ],
   "id": "a442e2858aba8e9c",
   "outputs": [
    {
     "data": {
      "text/plain": [
       "'October 31'"
      ]
     },
     "execution_count": 24,
     "metadata": {},
     "output_type": "execute_result"
    }
   ],
   "execution_count": 24
  },
  {
   "metadata": {
    "ExecuteTime": {
     "end_time": "2025-10-31T14:05:03.004542Z",
     "start_time": "2025-10-31T14:05:02.995174Z"
    }
   },
   "cell_type": "code",
   "source": [
    "# 날짜를 반환하는 함수 정의\n",
    "def get_today():\n",
    "    return datetime.now().strftime(\"%B %d\")"
   ],
   "id": "79d04c166a114c54",
   "outputs": [],
   "execution_count": 25
  },
  {
   "metadata": {
    "ExecuteTime": {
     "end_time": "2025-10-31T14:07:40.959642Z",
     "start_time": "2025-10-31T14:07:40.952941Z"
    }
   },
   "cell_type": "code",
   "source": [
    "prompt = PromptTemplate(\n",
    "    template=\"오늘의 날짜는 {today} 입니다. 오늘의 날짜에 해당하는 달이 생일인 전직/현직 F1 드라이버 {n}명을 나열해 주세요. 생년월일을 표기해주세요. 없으면 없다고 해주세요.\",\n",
    "    input_variables=[\"n\"],\n",
    "    partial_variables={\n",
    "        \"today\": get_today  # dictionary 형태로 partial_variables를 전달\n",
    "    },\n",
    ")"
   ],
   "id": "d78ed3faaa94ab1a",
   "outputs": [],
   "execution_count": 46
  },
  {
   "metadata": {
    "ExecuteTime": {
     "end_time": "2025-10-31T14:07:41.187855Z",
     "start_time": "2025-10-31T14:07:41.180552Z"
    }
   },
   "cell_type": "code",
   "source": [
    "# prompt 생성\n",
    "prompt.format(n=3)"
   ],
   "id": "4e7e315e12453d9b",
   "outputs": [
    {
     "data": {
      "text/plain": [
       "'오늘의 날짜는 October 31 입니다. 오늘의 날짜에 해당하는 달이 생일인 전직/현직 F1 드라이버 3명을 나열해 주세요. 생년월일을 표기해주세요. 없으면 없다고 해주세요.'"
      ]
     },
     "execution_count": 47,
     "metadata": {},
     "output_type": "execute_result"
    }
   ],
   "execution_count": 47
  },
  {
   "metadata": {
    "ExecuteTime": {
     "end_time": "2025-10-31T14:07:41.396837Z",
     "start_time": "2025-10-31T14:07:41.392640Z"
    }
   },
   "cell_type": "code",
   "source": [
    "# chain 을 생성합니다.\n",
    "chain = prompt | llm"
   ],
   "id": "2d5da23cada3d256",
   "outputs": [],
   "execution_count": 48
  },
  {
   "metadata": {
    "ExecuteTime": {
     "end_time": "2025-10-31T14:07:42.915353Z",
     "start_time": "2025-10-31T14:07:41.606790Z"
    }
   },
   "cell_type": "code",
   "source": [
    "# chain 을 실행 후 결과를 확인합니다.\n",
    "print(chain.invoke(3).content)"
   ],
   "id": "be8f54326becd5fc",
   "outputs": [
    {
     "name": "stdout",
     "output_type": "stream",
     "text": [
      "1. Jules Bianchi - October 3, 1989\n",
      "2. Robert Doornbos - September 23, 1981\n",
      "3. Gerhard Berger - August 27, 1959\n"
     ]
    }
   ],
   "execution_count": 49
  },
  {
   "metadata": {
    "ExecuteTime": {
     "end_time": "2025-10-31T14:07:48.080278Z",
     "start_time": "2025-10-31T14:07:46.750418Z"
    }
   },
   "cell_type": "code",
   "source": [
    "# chain 을 실행 후 결과를 확인합니다.\n",
    "print(chain.invoke({\"today\": \"Oct 31\", \"n\": 3}).content)"
   ],
   "id": "cdd6cc8603e7f0e",
   "outputs": [
    {
     "name": "stdout",
     "output_type": "stream",
     "text": [
      "1. Lewis Hamilton - 1985년 1월 7일\n",
      "2. Fernando Alonso - 1981년 7월 29일\n",
      "3. Timo Glock - 1982년 3월 18일\n"
     ]
    }
   ],
   "execution_count": 50
  },
  {
   "metadata": {},
   "cell_type": "markdown",
   "source": "-> 정확도가 그리 높지 않음",
   "id": "291cc1a5642d262f"
  },
  {
   "metadata": {},
   "cell_type": "markdown",
   "source": "### 파일로부터 template 읽어오기",
   "id": "450f9bebe9938753"
  },
  {
   "metadata": {
    "ExecuteTime": {
     "end_time": "2025-10-31T14:13:29.033208Z",
     "start_time": "2025-10-31T14:13:29.026684Z"
    }
   },
   "cell_type": "code",
   "source": [
    "from langchain_core.prompts import load_prompt\n",
    "\n",
    "prompt = load_prompt(\"week02_prompts/fruit_color.yaml\", encoding=\"utf-8\")\n",
    "prompt"
   ],
   "id": "e8f091b3b5417306",
   "outputs": [
    {
     "data": {
      "text/plain": [
       "PromptTemplate(input_variables=['fruit'], input_types={}, partial_variables={}, template='{fruit}의 색깔이 뭐야?')"
      ]
     },
     "execution_count": 59,
     "metadata": {},
     "output_type": "execute_result"
    }
   ],
   "execution_count": 59
  },
  {
   "metadata": {
    "ExecuteTime": {
     "end_time": "2025-10-31T14:13:34.699005Z",
     "start_time": "2025-10-31T14:13:34.693268Z"
    }
   },
   "cell_type": "code",
   "source": "prompt.format(fruit=\"사과\")",
   "id": "8829af7803cd809c",
   "outputs": [
    {
     "data": {
      "text/plain": [
       "'사과의 색깔이 뭐야?'"
      ]
     },
     "execution_count": 60,
     "metadata": {},
     "output_type": "execute_result"
    }
   ],
   "execution_count": 60
  },
  {
   "metadata": {
    "ExecuteTime": {
     "end_time": "2025-10-31T14:13:53.073525Z",
     "start_time": "2025-10-31T14:13:53.068242Z"
    }
   },
   "cell_type": "code",
   "source": [
    "prompt2 = load_prompt(\"week02_prompts/capital.yaml\", encoding=\"utf-8\")\n",
    "print(prompt2.format(country=\"대한민국\"))"
   ],
   "id": "7a84c2a315dfeda5",
   "outputs": [
    {
     "name": "stdout",
     "output_type": "stream",
     "text": [
      "대한민국의 수도에 대해서 알려주세요.\n",
      "수도의 특징을 다음의 양식에 맞게 정리해 주세요.\n",
      "300자 내외로 작성해 주세요.\n",
      "한글로 작성해 주세요.\n",
      "----\n",
      "[양식]\n",
      "1. 면적\n",
      "2. 인구\n",
      "3. 역사적 장소\n",
      "4. 특산품\n",
      "\n",
      "#Answer:\n",
      "\n"
     ]
    }
   ],
   "execution_count": 63
  },
  {
   "metadata": {},
   "cell_type": "markdown",
   "source": "### ChatPromptTemplate",
   "id": "12b206e561a83316"
  },
  {
   "metadata": {
    "ExecuteTime": {
     "end_time": "2025-10-31T14:15:54.644709Z",
     "start_time": "2025-10-31T14:15:54.628154Z"
    }
   },
   "cell_type": "code",
   "source": [
    "from langchain_core.prompts import ChatPromptTemplate\n",
    "\n",
    "chat_prompt = ChatPromptTemplate.from_template(\"{country}의 수도는 어디인가요?\")\n",
    "chat_prompt"
   ],
   "id": "866e620cff8df0dc",
   "outputs": [
    {
     "data": {
      "text/plain": [
       "ChatPromptTemplate(input_variables=['country'], input_types={}, partial_variables={}, messages=[HumanMessagePromptTemplate(prompt=PromptTemplate(input_variables=['country'], input_types={}, partial_variables={}, template='{country}의 수도는 어디인가요?'), additional_kwargs={})])"
      ]
     },
     "execution_count": 64,
     "metadata": {},
     "output_type": "execute_result"
    }
   ],
   "execution_count": 64
  },
  {
   "metadata": {
    "ExecuteTime": {
     "end_time": "2025-10-31T14:16:39.298947Z",
     "start_time": "2025-10-31T14:16:39.291346Z"
    }
   },
   "cell_type": "code",
   "source": "chat_prompt.format(country=\"대한민국\")",
   "id": "7dfb7036c269a96d",
   "outputs": [
    {
     "data": {
      "text/plain": [
       "'Human: 대한민국의 수도는 어디인가요?'"
      ]
     },
     "execution_count": 65,
     "metadata": {},
     "output_type": "execute_result"
    }
   ],
   "execution_count": 65
  },
  {
   "metadata": {
    "ExecuteTime": {
     "end_time": "2025-10-31T14:18:25.527017Z",
     "start_time": "2025-10-31T14:18:25.519355Z"
    }
   },
   "cell_type": "code",
   "source": [
    "from langchain_core.prompts import ChatPromptTemplate\n",
    "\n",
    "chat_template = ChatPromptTemplate.from_messages(\n",
    "    [\n",
    "        # role, message\n",
    "        (\"system\", \"당신은 Haas Moneygram F1 team 소속의 principal입니다. 당신의 이름은 {name} 입니다.\"),\n",
    "        (\"human\", \"반가워요!\"),\n",
    "        (\"ai\", \"안녕하세요! 무엇을 도와드릴까요?\"),\n",
    "        (\"human\", \"{user_input}\"),\n",
    "    ]\n",
    ")\n",
    "\n",
    "# 챗 message 를 생성합니다.\n",
    "messages = chat_template.format_messages(\n",
    "    name=\"테디\", user_input=\"당신의 이름은 무엇입니까?\"\n",
    ")\n",
    "messages"
   ],
   "id": "223d7770782e90ad",
   "outputs": [
    {
     "data": {
      "text/plain": [
       "[SystemMessage(content='당신은 Haas Moneygram F1 team 소속의 principal입니다. 당신의 이름은 테디 입니다.', additional_kwargs={}, response_metadata={}),\n",
       " HumanMessage(content='반가워요!', additional_kwargs={}, response_metadata={}),\n",
       " AIMessage(content='안녕하세요! 무엇을 도와드릴까요?', additional_kwargs={}, response_metadata={}),\n",
       " HumanMessage(content='당신의 이름은 무엇입니까?', additional_kwargs={}, response_metadata={})]"
      ]
     },
     "execution_count": 68,
     "metadata": {},
     "output_type": "execute_result"
    }
   ],
   "execution_count": 68
  },
  {
   "metadata": {
    "ExecuteTime": {
     "end_time": "2025-10-31T14:18:26.652898Z",
     "start_time": "2025-10-31T14:18:25.903538Z"
    }
   },
   "cell_type": "code",
   "source": "llm.invoke(messages).content",
   "id": "d8b0bc9d83d1e930",
   "outputs": [
    {
     "data": {
      "text/plain": [
       "'제 이름은 테디입니다. Haas Moneygram F1 team의 소속 principal 입니다.'"
      ]
     },
     "execution_count": 69,
     "metadata": {},
     "output_type": "execute_result"
    }
   ],
   "execution_count": 69
  },
  {
   "metadata": {
    "ExecuteTime": {
     "end_time": "2025-10-31T14:18:32.473117Z",
     "start_time": "2025-10-31T14:18:32.468118Z"
    }
   },
   "cell_type": "code",
   "source": "chain = chat_template | llm\n",
   "id": "9ec001cc73d12dc7",
   "outputs": [],
   "execution_count": 70
  },
  {
   "metadata": {
    "ExecuteTime": {
     "end_time": "2025-10-31T14:18:37.531516Z",
     "start_time": "2025-10-31T14:18:36.531077Z"
    }
   },
   "cell_type": "code",
   "source": "chain.invoke({\"name\": \"Teddy\", \"user_input\": \"당신의 이름은 무엇입니까?\"}).content\n",
   "id": "b9685f9663bcb399",
   "outputs": [
    {
     "data": {
      "text/plain": [
       "'저는 Haas Moneygram F1 team의 principal인 Teddy입니다. 어떻게 도와드릴까요?'"
      ]
     },
     "execution_count": 71,
     "metadata": {},
     "output_type": "execute_result"
    }
   ],
   "execution_count": 71
  },
  {
   "metadata": {},
   "cell_type": "markdown",
   "source": "### MessagePlaceholder",
   "id": "6d98298219960754"
  },
  {
   "metadata": {
    "ExecuteTime": {
     "end_time": "2025-10-31T14:23:41.253798Z",
     "start_time": "2025-10-31T14:23:41.246416Z"
    }
   },
   "cell_type": "code",
   "source": [
    "from langchain_core.output_parsers import StrOutputParser\n",
    "from langchain_core.prompts import ChatPromptTemplate, MessagesPlaceholder\n",
    "\n",
    "chat_prompt = ChatPromptTemplate.from_messages(\n",
    "    [\n",
    "        (\n",
    "            \"system\",\n",
    "            \"당신은 요약 전문 AI 어시스턴트입니다. 당신의 임무는 주요 키워드로 대화를 요약하는 것입니다.\",\n",
    "        ),\n",
    "        MessagesPlaceholder(variable_name=\"conversation\"),\n",
    "        (\"human\", \"지금까지의 대화를 {word_count} 단어로 요약합니다.\"),\n",
    "    ]\n",
    ")\n",
    "chat_prompt"
   ],
   "id": "bc0f8afe77732d32",
   "outputs": [
    {
     "data": {
      "text/plain": [
       "ChatPromptTemplate(input_variables=['conversation', 'word_count'], input_types={'conversation': list[typing.Annotated[typing.Union[typing.Annotated[langchain_core.messages.ai.AIMessage, Tag(tag='ai')], typing.Annotated[langchain_core.messages.human.HumanMessage, Tag(tag='human')], typing.Annotated[langchain_core.messages.chat.ChatMessage, Tag(tag='chat')], typing.Annotated[langchain_core.messages.system.SystemMessage, Tag(tag='system')], typing.Annotated[langchain_core.messages.function.FunctionMessage, Tag(tag='function')], typing.Annotated[langchain_core.messages.tool.ToolMessage, Tag(tag='tool')], typing.Annotated[langchain_core.messages.ai.AIMessageChunk, Tag(tag='AIMessageChunk')], typing.Annotated[langchain_core.messages.human.HumanMessageChunk, Tag(tag='HumanMessageChunk')], typing.Annotated[langchain_core.messages.chat.ChatMessageChunk, Tag(tag='ChatMessageChunk')], typing.Annotated[langchain_core.messages.system.SystemMessageChunk, Tag(tag='SystemMessageChunk')], typing.Annotated[langchain_core.messages.function.FunctionMessageChunk, Tag(tag='FunctionMessageChunk')], typing.Annotated[langchain_core.messages.tool.ToolMessageChunk, Tag(tag='ToolMessageChunk')]], FieldInfo(annotation=NoneType, required=True, discriminator=Discriminator(discriminator=<function _get_type at 0x00000270DABB20C0>, custom_error_type=None, custom_error_message=None, custom_error_context=None))]]}, partial_variables={}, messages=[SystemMessagePromptTemplate(prompt=PromptTemplate(input_variables=[], input_types={}, partial_variables={}, template='당신은 요약 전문 AI 어시스턴트입니다. 당신의 임무는 주요 키워드로 대화를 요약하는 것입니다.'), additional_kwargs={}), MessagesPlaceholder(variable_name='conversation'), HumanMessagePromptTemplate(prompt=PromptTemplate(input_variables=['word_count'], input_types={}, partial_variables={}, template='지금까지의 대화를 {word_count} 단어로 요약합니다.'), additional_kwargs={})])"
      ]
     },
     "execution_count": 74,
     "metadata": {},
     "output_type": "execute_result"
    }
   ],
   "execution_count": 74
  },
  {
   "metadata": {
    "ExecuteTime": {
     "end_time": "2025-10-31T14:23:42.880118Z",
     "start_time": "2025-10-31T14:23:42.874350Z"
    }
   },
   "cell_type": "code",
   "source": [
    "formatted_chat_prompt = chat_prompt.format(\n",
    "    word_count=5,\n",
    "    conversation=[\n",
    "        (\"human\", \"안녕하세요! 저는 오늘 새로 입사한 테디 입니다. 만나서 반갑습니다.\"),\n",
    "        (\"ai\", \"반가워요! 앞으로 잘 부탁 드립니다.\"),\n",
    "    ],\n",
    ")\n",
    "\n",
    "print(formatted_chat_prompt)"
   ],
   "id": "8805b3faa93a7d5a",
   "outputs": [
    {
     "name": "stdout",
     "output_type": "stream",
     "text": [
      "System: 당신은 요약 전문 AI 어시스턴트입니다. 당신의 임무는 주요 키워드로 대화를 요약하는 것입니다.\n",
      "Human: 안녕하세요! 저는 오늘 새로 입사한 테디 입니다. 만나서 반갑습니다.\n",
      "AI: 반가워요! 앞으로 잘 부탁 드립니다.\n",
      "Human: 지금까지의 대화를 5 단어로 요약합니다.\n"
     ]
    }
   ],
   "execution_count": 75
  },
  {
   "metadata": {
    "ExecuteTime": {
     "end_time": "2025-10-31T14:25:13.876166Z",
     "start_time": "2025-10-31T14:25:13.870990Z"
    }
   },
   "cell_type": "code",
   "source": "chain = chat_prompt | llm | StrOutputParser()",
   "id": "7a4893cadfe8f9fd",
   "outputs": [],
   "execution_count": 80
  },
  {
   "metadata": {
    "ExecuteTime": {
     "end_time": "2025-10-31T14:25:16.751009Z",
     "start_time": "2025-10-31T14:25:15.758157Z"
    }
   },
   "cell_type": "code",
   "source": [
    "# chain 실행 및 결과확인\n",
    "chain.invoke(\n",
    "    {\n",
    "        \"word_count\": 5,\n",
    "        \"conversation\": [\n",
    "            (\n",
    "                \"human\",\n",
    "                \"안녕하세요! 저는 오늘 새로 입사한 테디 입니다. 만나서 반갑습니다.\",\n",
    "            ),\n",
    "            (\"ai\", \"반가워요! 앞으로 잘 부탁 드립니다.\"),\n",
    "        ],\n",
    "    }\n",
    ")"
   ],
   "id": "e0c2a8a82212b755",
   "outputs": [
    {
     "data": {
      "text/plain": [
       "'테디 새로 입사, 만남 인사.'"
      ]
     },
     "execution_count": 81,
     "metadata": {},
     "output_type": "execute_result"
    }
   ],
   "execution_count": 81
  },
  {
   "metadata": {},
   "cell_type": "markdown",
   "source": "# 02. 퓨샷 프롬프트(FewShotPromptTemplate)",
   "id": "69ef18f543ef337"
  },
  {
   "metadata": {
    "ExecuteTime": {
     "end_time": "2025-10-31T15:22:16.613939Z",
     "start_time": "2025-10-31T15:22:16.585441Z"
    }
   },
   "cell_type": "code",
   "source": [
    "from dotenv import load_dotenv\n",
    "\n",
    "load_dotenv()"
   ],
   "id": "af44031de84de157",
   "outputs": [
    {
     "data": {
      "text/plain": [
       "True"
      ]
     },
     "execution_count": 82,
     "metadata": {},
     "output_type": "execute_result"
    }
   ],
   "execution_count": 82
  },
  {
   "metadata": {
    "ExecuteTime": {
     "end_time": "2025-10-31T15:23:04.923615Z",
     "start_time": "2025-10-31T15:23:04.919168Z"
    }
   },
   "cell_type": "code",
   "source": [
    "# LangSmith 추적을 설정합니다. https://smith.langchain.com\n",
    "# !pip install -qU langchain-teddynote\n",
    "from langchain_teddynote import logging\n",
    "\n",
    "# 프로젝트 이름을 입력합니다.\n",
    "logging.langsmith(\"CH02-Prompt-Junu\")"
   ],
   "id": "3437864793795a7f",
   "outputs": [
    {
     "name": "stdout",
     "output_type": "stream",
     "text": [
      "LangSmith 추적을 시작합니다.\n",
      "[프로젝트명]\n",
      "CH02-Prompt-Junu\n"
     ]
    }
   ],
   "execution_count": 85
  },
  {
   "metadata": {},
   "cell_type": "markdown",
   "source": "## FewShotPromptTemplate",
   "id": "b83347b1c8be1d9a"
  },
  {
   "metadata": {
    "ExecuteTime": {
     "end_time": "2025-10-31T15:26:26.090939Z",
     "start_time": "2025-10-31T15:26:13.315444Z"
    }
   },
   "cell_type": "code",
   "source": [
    "from langchain_openai import ChatOpenAI\n",
    "from langchain_teddynote.messages import stream_response\n",
    "\n",
    "# 객체 생성\n",
    "llm = ChatOpenAI(\n",
    "    temperature=0,  # 창의성\n",
    "    model_name=\"gpt-4-turbo\",  # 모델명\n",
    ")\n",
    "\n",
    "# 질의내용\n",
    "question = \"현재 가장 위대한 F1 팀이 뭐야?\"\n",
    "\n",
    "# 질의\n",
    "answer = llm.stream(question)\n",
    "stream_response(answer)"
   ],
   "id": "1a904dd5f4c7c823",
   "outputs": [
    {
     "name": "stdout",
     "output_type": "stream",
     "text": [
      "2023년 현재, 포뮬러 원(F1)에서 가장 성공적인 팀을 꼽으라면 여러 요소를 고려해야 합니다. 최근 몇 년간의 성적, 월드 챔피언십 타이틀 수, 그리고 현재 시즌의 성적 등이 중요한 기준이 될 수 있습니다.\n",
      "\n",
      "최근 몇 년간을 보면, 메르세데스-AMG 페트로나스 포뮬러 원 팀이 매우 강력한 성적을 보여주었습니다. 2014년부터 2020년까지 연속으로 컨스트럭터스 챔피언십(팀 챔피언십)을 획득하며 독보적인 성과를 이루었습니다. 또한, 이 기간 동안 루이스 해밀턴과 니코 로즈버그 같은 드라이버들이 드라이버 챔피언십에서도 여러 번 우승을 차지했습니다.\n",
      "\n",
      "그러나 2021년과 2022년에는 레드불 레이싱이 강세를 보이며 맥스 페르스타펜이 드라이버 챔피언십에서 우승을 차지했고, 팀도 컨스트럭터스 챔피언십에서 좋은 성적을 거두었습니다.\n",
      "\n",
      "따라서, 현재 가장 위대한 F1 팀을 선택하는 것은 최근의 경향과 성적에 따라 달라질 수 있으며, 메르세데스와 레드불 두 팀 모두 최근 몇 년간 F1에서 매우 강력한 경쟁력을 보여주고 있습니다."
     ]
    }
   ],
   "execution_count": 88
  },
  {
   "metadata": {
    "ExecuteTime": {
     "end_time": "2025-10-31T15:27:23.749426Z",
     "start_time": "2025-10-31T15:27:23.733603Z"
    }
   },
   "cell_type": "code",
   "source": [
    "from langchain_core.prompts.few_shot import FewShotPromptTemplate\n",
    "from langchain_core.prompts import PromptTemplate\n",
    "from langchain_core.output_parsers import StrOutputParser\n",
    "\n",
    "\n",
    "examples = [\n",
    "    {\n",
    "        \"question\": \"스티브 잡스와 아인슈타인 중 누가 더 오래 살았나요?\",\n",
    "        \"answer\": \"\"\"이 질문에 추가 질문이 필요한가요: 예.\n",
    "추가 질문: 스티브 잡스는 몇 살에 사망했나요?\n",
    "중간 답변: 스티브 잡스는 56세에 사망했습니다.\n",
    "추가 질문: 아인슈타인은 몇 살에 사망했나요?\n",
    "중간 답변: 아인슈타인은 76세에 사망했습니다.\n",
    "최종 답변은: 아인슈타인\n",
    "\"\"\",\n",
    "    },\n",
    "    {\n",
    "        \"question\": \"네이버의 창립자는 언제 태어났나요?\",\n",
    "        \"answer\": \"\"\"이 질문에 추가 질문이 필요한가요: 예.\n",
    "추가 질문: 네이버의 창립자는 누구인가요?\n",
    "중간 답변: 네이버는 이해진에 의해 창립되었습니다.\n",
    "추가 질문: 이해진은 언제 태어났나요?\n",
    "중간 답변: 이해진은 1967년 6월 22일에 태어났습니다.\n",
    "최종 답변은: 1967년 6월 22일\n",
    "\"\"\",\n",
    "    },\n",
    "    {\n",
    "        \"question\": \"율곡 이이의 어머니가 태어난 해의 통치하던 왕은 누구인가요?\",\n",
    "        \"answer\": \"\"\"이 질문에 추가 질문이 필요한가요: 예.\n",
    "추가 질문: 율곡 이이의 어머니는 누구인가요?\n",
    "중간 답변: 율곡 이이의 어머니는 신사임당입니다.\n",
    "추가 질문: 신사임당은 언제 태어났나요?\n",
    "중간 답변: 신사임당은 1504년에 태어났습니다.\n",
    "추가 질문: 1504년에 조선을 통치한 왕은 누구인가요?\n",
    "중간 답변: 1504년에 조선을 통치한 왕은 연산군입니다.\n",
    "최종 답변은: 연산군\n",
    "\"\"\",\n",
    "    },\n",
    "    {\n",
    "        \"question\": \"올드보이와 기생충의 감독이 같은 나라 출신인가요?\",\n",
    "        \"answer\": \"\"\"이 질문에 추가 질문이 필요한가요: 예.\n",
    "추가 질문: 올드보이의 감독은 누구인가요?\n",
    "중간 답변: 올드보이의 감독은 박찬욱입니다.\n",
    "추가 질문: 박찬욱은 어느 나라 출신인가요?\n",
    "중간 답변: 박찬욱은 대한민국 출신입니다.\n",
    "추가 질문: 기생충의 감독은 누구인가요?\n",
    "중간 답변: 기생충의 감독은 봉준호입니다.\n",
    "추가 질문: 봉준호는 어느 나라 출신인가요?\n",
    "중간 답변: 봉준호는 대한민국 출신입니다.\n",
    "최종 답변은: 예\n",
    "\"\"\",\n",
    "    },\n",
    "]\n"
   ],
   "id": "52cfc08b7e26194c",
   "outputs": [],
   "execution_count": 89
  },
  {
   "metadata": {},
   "cell_type": "markdown",
   "source": "FewShotPromptTemplate 없이는 직접 형식을 지정한뒤 입력해야한다.",
   "id": "448125b7c73eeb28"
  },
  {
   "metadata": {
    "ExecuteTime": {
     "end_time": "2025-10-31T15:33:45.085262Z",
     "start_time": "2025-10-31T15:33:45.080648Z"
    }
   },
   "cell_type": "code",
   "source": [
    "example_prompt = PromptTemplate.from_template(\n",
    "    \"Question:\\n{question}\\nAnswer:\\n{answer}\"\n",
    ")\n",
    "\n",
    "print(example_prompt.format(**examples[0]))\n"
   ],
   "id": "68a519d593955cd8",
   "outputs": [
    {
     "name": "stdout",
     "output_type": "stream",
     "text": [
      "Question:\n",
      "스티브 잡스와 아인슈타인 중 누가 더 오래 살았나요?\n",
      "Answer:\n",
      "이 질문에 추가 질문이 필요한가요: 예.\n",
      "추가 질문: 스티브 잡스는 몇 살에 사망했나요?\n",
      "중간 답변: 스티브 잡스는 56세에 사망했습니다.\n",
      "추가 질문: 아인슈타인은 몇 살에 사망했나요?\n",
      "중간 답변: 아인슈타인은 76세에 사망했습니다.\n",
      "최종 답변은: 아인슈타인\n",
      "\n"
     ]
    }
   ],
   "execution_count": 95
  },
  {
   "metadata": {},
   "cell_type": "markdown",
   "source": "FewShotPromptTemplate을 사용한다면 간단하게 suffix parameter를 통해 examples를 dictionary 형태로 넣기만 해도 된다",
   "id": "6b707a58429b7124"
  },
  {
   "metadata": {
    "ExecuteTime": {
     "end_time": "2025-10-31T15:28:09.109857Z",
     "start_time": "2025-10-31T15:28:09.104572Z"
    }
   },
   "cell_type": "code",
   "source": [
    "prompt = FewShotPromptTemplate(\n",
    "    examples=examples,\n",
    "    example_prompt=example_prompt,\n",
    "    suffix=\"Question:\\n{question}\\nAnswer:\",\n",
    "    input_variables=[\"question\"],\n",
    ")\n",
    "\n",
    "question = \"Google이 창립된 연도에 Bill Gates의 나이는 몇 살인가요?\"\n",
    "final_prompt = prompt.format(question=question)\n",
    "print(final_prompt)"
   ],
   "id": "8d3ace8b4908a185",
   "outputs": [
    {
     "name": "stdout",
     "output_type": "stream",
     "text": [
      "Question:\n",
      "스티브 잡스와 아인슈타인 중 누가 더 오래 살았나요?\n",
      "Answer:\n",
      "이 질문에 추가 질문이 필요한가요: 예.\n",
      "추가 질문: 스티브 잡스는 몇 살에 사망했나요?\n",
      "중간 답변: 스티브 잡스는 56세에 사망했습니다.\n",
      "추가 질문: 아인슈타인은 몇 살에 사망했나요?\n",
      "중간 답변: 아인슈타인은 76세에 사망했습니다.\n",
      "최종 답변은: 아인슈타인\n",
      "\n",
      "\n",
      "Question:\n",
      "네이버의 창립자는 언제 태어났나요?\n",
      "Answer:\n",
      "이 질문에 추가 질문이 필요한가요: 예.\n",
      "추가 질문: 네이버의 창립자는 누구인가요?\n",
      "중간 답변: 네이버는 이해진에 의해 창립되었습니다.\n",
      "추가 질문: 이해진은 언제 태어났나요?\n",
      "중간 답변: 이해진은 1967년 6월 22일에 태어났습니다.\n",
      "최종 답변은: 1967년 6월 22일\n",
      "\n",
      "\n",
      "Question:\n",
      "율곡 이이의 어머니가 태어난 해의 통치하던 왕은 누구인가요?\n",
      "Answer:\n",
      "이 질문에 추가 질문이 필요한가요: 예.\n",
      "추가 질문: 율곡 이이의 어머니는 누구인가요?\n",
      "중간 답변: 율곡 이이의 어머니는 신사임당입니다.\n",
      "추가 질문: 신사임당은 언제 태어났나요?\n",
      "중간 답변: 신사임당은 1504년에 태어났습니다.\n",
      "추가 질문: 1504년에 조선을 통치한 왕은 누구인가요?\n",
      "중간 답변: 1504년에 조선을 통치한 왕은 연산군입니다.\n",
      "최종 답변은: 연산군\n",
      "\n",
      "\n",
      "Question:\n",
      "올드보이와 기생충의 감독이 같은 나라 출신인가요?\n",
      "Answer:\n",
      "이 질문에 추가 질문이 필요한가요: 예.\n",
      "추가 질문: 올드보이의 감독은 누구인가요?\n",
      "중간 답변: 올드보이의 감독은 박찬욱입니다.\n",
      "추가 질문: 박찬욱은 어느 나라 출신인가요?\n",
      "중간 답변: 박찬욱은 대한민국 출신입니다.\n",
      "추가 질문: 기생충의 감독은 누구인가요?\n",
      "중간 답변: 기생충의 감독은 봉준호입니다.\n",
      "추가 질문: 봉준호는 어느 나라 출신인가요?\n",
      "중간 답변: 봉준호는 대한민국 출신입니다.\n",
      "최종 답변은: 예\n",
      "\n",
      "\n",
      "Question:\n",
      "Google이 창립된 연도에 Bill Gates의 나이는 몇 살인가요?\n",
      "Answer:\n"
     ]
    }
   ],
   "execution_count": 92
  },
  {
   "metadata": {
    "ExecuteTime": {
     "end_time": "2025-10-31T15:28:38.102855Z",
     "start_time": "2025-10-31T15:28:32.762196Z"
    }
   },
   "cell_type": "code",
   "source": [
    "# 결과 출력\n",
    "answer = llm.stream(final_prompt)\n",
    "stream_response(answer)"
   ],
   "id": "9b122d426c38724f",
   "outputs": [
    {
     "name": "stdout",
     "output_type": "stream",
     "text": [
      "이 질문에 추가 질문이 필요한가요: 예.\n",
      "추가 질문: Google은 언제 창립되었나요?\n",
      "중간 답변: Google은 1998년에 창립되었습니다.\n",
      "추가 질문: Bill Gates는 언제 태어났나요?\n",
      "중간 답변: Bill Gates는 1955년 10월 28일에 태어났습니다.\n",
      "최종 답변은: 1998년에 Bill Gates의 나이는 43세입니다."
     ]
    }
   ],
   "execution_count": 93
  },
  {
   "metadata": {
    "ExecuteTime": {
     "end_time": "2025-10-31T15:28:53.328266Z",
     "start_time": "2025-10-31T15:28:48.732921Z"
    }
   },
   "cell_type": "code",
   "source": [
    "prompt = FewShotPromptTemplate(\n",
    "    examples=examples,\n",
    "    example_prompt=example_prompt,\n",
    "    suffix=\"Question:\\n{question}\\nAnswer:\",\n",
    "    input_variables=[\"question\"],\n",
    ")\n",
    "\n",
    "# chain 생성\n",
    "chain = prompt | llm | StrOutputParser()\n",
    "\n",
    "# 결과 출력\n",
    "answer = chain.stream(\n",
    "    {\"question\": \"Google이 창립된 연도에 Bill Gates의 나이는 몇 살인가요?\"}\n",
    ")\n",
    "stream_response(answer)"
   ],
   "id": "d982d433ade11dae",
   "outputs": [
    {
     "name": "stdout",
     "output_type": "stream",
     "text": [
      "이 질문에 추가 질문이 필요한가요: 예.\n",
      "추가 질문: Google은 언제 창립되었나요?\n",
      "중간 답변: Google은 1998년에 창립되었습니다.\n",
      "추가 질문: Bill Gates는 언제 태어났나요?\n",
      "중간 답변: Bill Gates는 1955년 10월 28일에 태어났습니다.\n",
      "최종 답변은: 1998년에 Bill Gates의 나이는 43세입니다."
     ]
    }
   ],
   "execution_count": 94
  },
  {
   "metadata": {},
   "cell_type": "markdown",
   "source": [
    "Example Selector\n",
    "예제가 많은 경우 프롬프트에 포함할 예제를 선택해야 할 수도 있습니다. Example Selector 는 이 작업을 담당하는 클래스입니다."
   ],
   "id": "79af3814559d7f70"
  },
  {
   "metadata": {
    "ExecuteTime": {
     "end_time": "2025-10-31T15:44:28.147980Z",
     "start_time": "2025-10-31T15:44:25.602996Z"
    }
   },
   "cell_type": "code",
   "source": [
    "from langchain_core.example_selectors import (\n",
    "    MaxMarginalRelevanceExampleSelector,\n",
    "    SemanticSimilarityExampleSelector,\n",
    ")\n",
    "from langchain_openai import OpenAIEmbeddings\n",
    "from langchain_chroma import Chroma\n",
    "\n",
    "# Vector DB 생성 (저장소 이름, 임베딩 클래스)\n",
    "chroma = Chroma(\"example_selector\", OpenAIEmbeddings())\n",
    "\n",
    "example_selector = SemanticSimilarityExampleSelector.from_examples(\n",
    "    # 여기에는 선택 가능한 예시 목록이 있습니다.\n",
    "    examples,\n",
    "    # 여기에는 의미적 유사성을 측정하는 데 사용되는 임베딩을 생성하는 임베딩 클래스가 있습니다.\n",
    "    OpenAIEmbeddings(),\n",
    "    # 여기에는 임베딩을 저장하고 유사성 검색을 수행하는 데 사용되는 VectorStore 클래스가 있습니다.\n",
    "    Chroma,\n",
    "    # 이것은 생성할 예시의 수입니다.\n",
    "    k=1,\n",
    ")\n",
    "\n",
    "# 입력과 가장 유사한 예시를 선택합니다.\n",
    "selected_examples = example_selector.select_examples({\"question\": question})\n",
    "\n",
    "question = \"Google이 창립된 연도에 Bill Gates의 나이는 몇 살인가요?\"\n",
    "print(f\"입력에 가장 유사한 예시:\\n{question}\\n\")\n",
    "for example in selected_examples:\n",
    "    print(f'question:\\n{example[\"question\"]}')\n",
    "    print(f'answer:\\n{example[\"answer\"]}')\n"
   ],
   "id": "982e4511154e9a6d",
   "outputs": [
    {
     "name": "stderr",
     "output_type": "stream",
     "text": [
      "Failed to send telemetry event ClientStartEvent: capture() takes 1 positional argument but 3 were given\n",
      "Failed to send telemetry event ClientCreateCollectionEvent: capture() takes 1 positional argument but 3 were given\n",
      "Failed to send telemetry event ClientStartEvent: capture() takes 1 positional argument but 3 were given\n",
      "Failed to send telemetry event ClientCreateCollectionEvent: capture() takes 1 positional argument but 3 were given\n"
     ]
    },
    {
     "name": "stdout",
     "output_type": "stream",
     "text": [
      "입력에 가장 유사한 예시:\n",
      "Google이 창립된 연도에 Bill Gates의 나이는 몇 살인가요?\n",
      "\n",
      "question:\n",
      "네이버의 창립자는 언제 태어났나요?\n",
      "answer:\n",
      "이 질문에 추가 질문이 필요한가요: 예.\n",
      "추가 질문: 네이버의 창립자는 누구인가요?\n",
      "중간 답변: 네이버는 이해진에 의해 창립되었습니다.\n",
      "추가 질문: 이해진은 언제 태어났나요?\n",
      "중간 답변: 이해진은 1967년 6월 22일에 태어났습니다.\n",
      "최종 답변은: 1967년 6월 22일\n",
      "\n"
     ]
    }
   ],
   "execution_count": 98
  },
  {
   "metadata": {
    "ExecuteTime": {
     "end_time": "2025-10-31T15:44:47.309031Z",
     "start_time": "2025-10-31T15:44:46.733814Z"
    }
   },
   "cell_type": "code",
   "source": [
    "prompt = FewShotPromptTemplate(\n",
    "    example_selector=example_selector,\n",
    "    example_prompt=example_prompt,\n",
    "    suffix=\"Question:\\n{question}\\nAnswer:\",\n",
    "    input_variables=[\"question\"],\n",
    ")\n",
    "\n",
    "question = \"Google이 창립된 연도에 Bill Gates의 나이는 몇 살인가요?\"\n",
    "example_selector_prompt = prompt.format(question=question)\n",
    "print(example_selector_prompt)\n"
   ],
   "id": "7fb5e4f76529bf1f",
   "outputs": [
    {
     "name": "stdout",
     "output_type": "stream",
     "text": [
      "Question:\n",
      "네이버의 창립자는 언제 태어났나요?\n",
      "Answer:\n",
      "이 질문에 추가 질문이 필요한가요: 예.\n",
      "추가 질문: 네이버의 창립자는 누구인가요?\n",
      "중간 답변: 네이버는 이해진에 의해 창립되었습니다.\n",
      "추가 질문: 이해진은 언제 태어났나요?\n",
      "중간 답변: 이해진은 1967년 6월 22일에 태어났습니다.\n",
      "최종 답변은: 1967년 6월 22일\n",
      "\n",
      "\n",
      "Question:\n",
      "Google이 창립된 연도에 Bill Gates의 나이는 몇 살인가요?\n",
      "Answer:\n"
     ]
    }
   ],
   "execution_count": 99
  },
  {
   "metadata": {},
   "cell_type": "markdown",
   "source": "이번에는 ExampleSelector 를 사용하여 FewShotPromptTemplate 을 생성합니다.",
   "id": "dae6bd364c31cdee"
  },
  {
   "metadata": {
    "ExecuteTime": {
     "end_time": "2025-10-31T15:45:10.737831Z",
     "start_time": "2025-10-31T15:45:10.733601Z"
    }
   },
   "cell_type": "code",
   "source": [
    "prompt = FewShotPromptTemplate(\n",
    "    example_selector=example_selector,\n",
    "    example_prompt=example_prompt,\n",
    "    suffix=\"Question:\\n{question}\\nAnswer:\",\n",
    "    input_variables=[\"question\"],\n",
    ")\n",
    "\n",
    "# 체인 생성\n",
    "chain = prompt | llm"
   ],
   "id": "ce190ffa1c481937",
   "outputs": [],
   "execution_count": 100
  },
  {
   "metadata": {
    "ExecuteTime": {
     "end_time": "2025-10-31T15:46:28.123085Z",
     "start_time": "2025-10-31T15:46:22.802029Z"
    }
   },
   "cell_type": "code",
   "source": [
    "# 결과 출력\n",
    "answer = chain.stream(\n",
    "    {\"question\": \"Google이 창립된 연도에 Bill Gates의 나이는 몇 살인가요?\"}\n",
    ")\n",
    "stream_response(answer)"
   ],
   "id": "7f6ab1f96eb2dab",
   "outputs": [
    {
     "name": "stdout",
     "output_type": "stream",
     "text": [
      "이 질문에 추가 질문이 필요한가요: 예.\n",
      "추가 질문: Google이 언제 창립되었나요?\n",
      "중간 답변: Google은 1998년에 창립되었습니다.\n",
      "추가 질문: Bill Gates는 언제 태어났나요?\n",
      "중간 답변: Bill Gates는 1955년 10월 28일에 태어났습니다.\n",
      "최종 계산: 1998년에서 1955년을 빼면 43년이므로, Bill Gates는 Google이 창립된 해에 43세였습니다.\n",
      "최종 답변은: 43세"
     ]
    }
   ],
   "execution_count": 101
  },
  {
   "metadata": {},
   "cell_type": "markdown",
   "source": "## FewShotChatMessagePromptTemplate",
   "id": "8c510e2041352c54"
  },
  {
   "metadata": {},
   "cell_type": "code",
   "outputs": [],
   "execution_count": null,
   "source": "",
   "id": "3a3f1c4fffb749a3"
  },
  {
   "metadata": {
    "ExecuteTime": {
     "end_time": "2025-10-31T15:47:21.766984Z",
     "start_time": "2025-10-31T15:47:21.761971Z"
    }
   },
   "cell_type": "code",
   "source": [
    "examples = [\n",
    "    {\n",
    "        \"instruction\": \"당신은 회의록 작성 전문가 입니다. 주어진 정보를 바탕으로 회의록을 작성해 주세요\",\n",
    "        \"input\": \"2023년 12월 25일, XYZ 회사의 마케팅 전략 회의가 오후 3시에 시작되었다. 회의에는 마케팅 팀장인 김수진, 디지털 마케팅 담당자인 박지민, 소셜 미디어 관리자인 이준호가 참석했다. 회의의 주요 목적은 2024년 상반기 마케팅 전략을 수립하고, 새로운 소셜 미디어 캠페인에 대한 아이디어를 논의하는 것이었다. 팀장인 김수진은 최근 시장 동향에 대한 간략한 개요를 제공했으며, 이어서 각 팀원이 자신의 분야에서의 전략적 아이디어를 발표했다.\",\n",
    "        \"answer\": \"\"\"\n",
    "회의록: XYZ 회사 마케팅 전략 회의\n",
    "일시: 2023년 12월 25일\n",
    "장소: XYZ 회사 회의실\n",
    "참석자: 김수진 (마케팅 팀장), 박지민 (디지털 마케팅 담당자), 이준호 (소셜 미디어 관리자)\n",
    "\n",
    "1. 개회\n",
    "   - 회의는 김수진 팀장의 개회사로 시작됨.\n",
    "   - 회의의 목적은 2024년 상반기 마케팅 전략 수립 및 새로운 소셜 미디어 캠페인 아이디어 논의.\n",
    "\n",
    "2. 시장 동향 개요 (김수진)\n",
    "   - 김수진 팀장은 최근 시장 동향에 대한 분석을 제시.\n",
    "   - 소비자 행동 변화와 경쟁사 전략에 대한 통찰 공유.\n",
    "\n",
    "3. 디지털 마케팅 전략 (박지민)\n",
    "   - 박지민은 디지털 마케팅 전략에 대해 발표.\n",
    "   - 온라인 광고와 SEO 최적화 방안에 중점을 둠.\n",
    "\n",
    "4. 소셜 미디어 캠페인 (이준호)\n",
    "   - 이준호는 새로운 소셜 미디어 캠페인에 대한 아이디어를 제안.\n",
    "   - 인플루언서 마케팅과 콘텐츠 전략에 대한 계획을 설명함.\n",
    "\n",
    "5. 종합 논의\n",
    "   - 팀원들 간의 아이디어 공유 및 토론.\n",
    "   - 각 전략에 대한 예산 및 자원 배분에 대해 논의.\n",
    "\n",
    "6. 마무리\n",
    "   - 다음 회의 날짜 및 시간 확정.\n",
    "   - 회의록 정리 및 배포는 박지민 담당.\n",
    "\"\"\",\n",
    "    },\n",
    "    {\n",
    "        \"instruction\": \"당신은 요약 전문가 입니다. 다음 주어진 정보를 바탕으로 내용을 요약해 주세요\",\n",
    "        \"input\": \"이 문서는 '지속 가능한 도시 개발을 위한 전략'에 대한 20페이지 분량의 보고서입니다. 보고서는 지속 가능한 도시 개발의 중요성, 현재 도시화의 문제점, 그리고 도시 개발을 지속 가능하게 만들기 위한 다양한 전략을 포괄적으로 다루고 있습니다. 이 보고서는 또한 성공적인 지속 가능한 도시 개발 사례를 여러 국가에서 소개하고, 이러한 사례들을 통해 얻은 교훈을 요약하고 있습니다.\",\n",
    "        \"answer\": \"\"\"\n",
    "문서 요약: 지속 가능한 도시 개발을 위한 전략 보고서\n",
    "\n",
    "- 중요성: 지속 가능한 도시 개발이 필수적인 이유와 그에 따른 사회적, 경제적, 환경적 이익을 강조.\n",
    "- 현 문제점: 현재의 도시화 과정에서 발생하는 주요 문제점들, 예를 들어 환경 오염, 자원 고갈, 불평등 증가 등을 분석.\n",
    "- 전략: 지속 가능한 도시 개발을 달성하기 위한 다양한 전략 제시. 이에는 친환경 건축, 대중교통 개선, 에너지 효율성 증대, 지역사회 참여 강화 등이 포함됨.\n",
    "- 사례 연구: 전 세계 여러 도시의 성공적인 지속 가능한 개발 사례를 소개. 예를 들어, 덴마크의 코펜하겐, 일본의 요코하마 등의 사례를 통해 실현 가능한 전략들을 설명.\n",
    "- 교훈: 이러한 사례들에서 얻은 주요 교훈을 요약. 강조된 교훈에는 다각적 접근의 중요성, 지역사회와의 협력, 장기적 계획의 필요성 등이 포함됨.\n",
    "\n",
    "이 보고서는 지속 가능한 도시 개발이 어떻게 현실적이고 효과적인 형태로 이루어질 수 있는지에 대한 심도 있는 분석을 제공합니다.\n",
    "\"\"\",\n",
    "    },\n",
    "    {\n",
    "        \"instruction\": \"당신은 문장 교정 전문가 입니다. 다음 주어진 문장을 교정해 주세요\",\n",
    "        \"input\": \"우리 회사는 새로운 마케팅 전략을 도입하려고 한다. 이를 통해 고객과의 소통이 더 효과적이 될 것이다.\",\n",
    "        \"answer\": \"본 회사는 새로운 마케팅 전략을 도입함으로써, 고객과의 소통을 보다 효과적으로 개선할 수 있을 것으로 기대된다.\",\n",
    "    },\n",
    "]\n"
   ],
   "id": "37d1621499642960",
   "outputs": [],
   "execution_count": 102
  },
  {
   "metadata": {
    "ExecuteTime": {
     "end_time": "2025-10-31T15:47:52.648531Z",
     "start_time": "2025-10-31T15:47:42.432235Z"
    }
   },
   "cell_type": "code",
   "source": [
    "from langchain_core.prompts import ChatPromptTemplate, FewShotChatMessagePromptTemplate\n",
    "from langchain_core.example_selectors import (\n",
    "    SemanticSimilarityExampleSelector,\n",
    ")\n",
    "from langchain_openai import OpenAIEmbeddings\n",
    "from langchain_chroma import Chroma\n",
    "\n",
    "chroma = Chroma(\"fewshot_chat\", OpenAIEmbeddings())\n",
    "\n",
    "example_prompt = ChatPromptTemplate.from_messages(\n",
    "    [\n",
    "        (\"human\", \"{instruction}:\\n{input}\"),\n",
    "        (\"ai\", \"{answer}\"),\n",
    "    ]\n",
    ")\n",
    "\n",
    "example_selector = SemanticSimilarityExampleSelector.from_examples(\n",
    "    # 여기에는 선택 가능한 예시 목록이 있습니다.\n",
    "    examples,\n",
    "    # 여기에는 의미적 유사성을 측정하는 데 사용되는 임베딩을 생성하는 임베딩 클래스가 있습니다.\n",
    "    OpenAIEmbeddings(),\n",
    "    # 여기에는 임베딩을 저장하고 유사성 검색을 수행하는 데 사용되는 VectorStore 클래스가 있습니다.\n",
    "    chroma,\n",
    "    # 이것은 생성할 예시의 수입니다.\n",
    "    k=1,\n",
    ")\n",
    "\n",
    "few_shot_prompt = FewShotChatMessagePromptTemplate(\n",
    "    example_selector=example_selector,\n",
    "    example_prompt=example_prompt,\n",
    ")\n"
   ],
   "id": "cb817162239d9423",
   "outputs": [
    {
     "name": "stderr",
     "output_type": "stream",
     "text": [
      "Failed to send telemetry event ClientStartEvent: capture() takes 1 positional argument but 3 were given\n",
      "Failed to send telemetry event ClientCreateCollectionEvent: capture() takes 1 positional argument but 3 were given\n",
      "Failed to send telemetry event ClientStartEvent: capture() takes 1 positional argument but 3 were given\n",
      "Failed to send telemetry event ClientCreateCollectionEvent: capture() takes 1 positional argument but 3 were given\n"
     ]
    }
   ],
   "execution_count": 103
  },
  {
   "metadata": {
    "ExecuteTime": {
     "end_time": "2025-10-31T15:49:19.798200Z",
     "start_time": "2025-10-31T15:49:19.116529Z"
    }
   },
   "cell_type": "code",
   "source": [
    "question = {\n",
    "    \"instruction\": \"회의록을 작성해 주세요\",\n",
    "    \"input\": \"2023년 12월 26일, ABC 기술 회사의 제품 개발 팀은 새로운 모바일 애플리케이션 프로젝트에 대한 주간 진행 상황 회의를 가졌다. 이 회의에는 프로젝트 매니저인 최현수, 주요 개발자인 황지연, UI/UX 디자이너인 김태영이 참석했다. 회의의 주요 목적은 프로젝트의 현재 진행 상황을 검토하고, 다가오는 마일스톤에 대한 계획을 수립하는 것이었다. 각 팀원은 자신의 작업 영역에 대한 업데이트를 제공했고, 팀은 다음 주까지의 목표를 설정했다.\",\n",
    "}\n",
    "\n",
    "example_selector.select_examples(question)"
   ],
   "id": "a87cb18f4248038b",
   "outputs": [
    {
     "data": {
      "text/plain": [
       "[{'answer': '\\n회의록: XYZ 회사 마케팅 전략 회의\\n일시: 2023년 12월 25일\\n장소: XYZ 회사 회의실\\n참석자: 김수진 (마케팅 팀장), 박지민 (디지털 마케팅 담당자), 이준호 (소셜 미디어 관리자)\\n\\n1. 개회\\n   - 회의는 김수진 팀장의 개회사로 시작됨.\\n   - 회의의 목적은 2024년 상반기 마케팅 전략 수립 및 새로운 소셜 미디어 캠페인 아이디어 논의.\\n\\n2. 시장 동향 개요 (김수진)\\n   - 김수진 팀장은 최근 시장 동향에 대한 분석을 제시.\\n   - 소비자 행동 변화와 경쟁사 전략에 대한 통찰 공유.\\n\\n3. 디지털 마케팅 전략 (박지민)\\n   - 박지민은 디지털 마케팅 전략에 대해 발표.\\n   - 온라인 광고와 SEO 최적화 방안에 중점을 둠.\\n\\n4. 소셜 미디어 캠페인 (이준호)\\n   - 이준호는 새로운 소셜 미디어 캠페인에 대한 아이디어를 제안.\\n   - 인플루언서 마케팅과 콘텐츠 전략에 대한 계획을 설명함.\\n\\n5. 종합 논의\\n   - 팀원들 간의 아이디어 공유 및 토론.\\n   - 각 전략에 대한 예산 및 자원 배분에 대해 논의.\\n\\n6. 마무리\\n   - 다음 회의 날짜 및 시간 확정.\\n   - 회의록 정리 및 배포는 박지민 담당.\\n',\n",
       "  'input': '2023년 12월 25일, XYZ 회사의 마케팅 전략 회의가 오후 3시에 시작되었다. 회의에는 마케팅 팀장인 김수진, 디지털 마케팅 담당자인 박지민, 소셜 미디어 관리자인 이준호가 참석했다. 회의의 주요 목적은 2024년 상반기 마케팅 전략을 수립하고, 새로운 소셜 미디어 캠페인에 대한 아이디어를 논의하는 것이었다. 팀장인 김수진은 최근 시장 동향에 대한 간략한 개요를 제공했으며, 이어서 각 팀원이 자신의 분야에서의 전략적 아이디어를 발표했다.',\n",
       "  'instruction': '당신은 회의록 작성 전문가 입니다. 주어진 정보를 바탕으로 회의록을 작성해 주세요'}]"
      ]
     },
     "execution_count": 104,
     "metadata": {},
     "output_type": "execute_result"
    }
   ],
   "execution_count": 104
  },
  {
   "metadata": {
    "ExecuteTime": {
     "end_time": "2025-10-31T15:49:42.132357Z",
     "start_time": "2025-10-31T15:49:42.127728Z"
    }
   },
   "cell_type": "code",
   "source": [
    "final_prompt = ChatPromptTemplate.from_messages(\n",
    "    [\n",
    "        (\n",
    "            \"system\",\n",
    "            \"You are a helpful assistant.\",\n",
    "        ),\n",
    "        few_shot_prompt,\n",
    "        (\"human\", \"{instruction}\\n{input}\"),\n",
    "    ]\n",
    ")\n"
   ],
   "id": "b6bb96137d7d967d",
   "outputs": [],
   "execution_count": 105
  },
  {
   "metadata": {
    "ExecuteTime": {
     "end_time": "2025-10-31T15:50:15.093819Z",
     "start_time": "2025-10-31T15:49:52.080534Z"
    }
   },
   "cell_type": "code",
   "source": [
    "# chain 생성\n",
    "chain = final_prompt | llm\n",
    "\n",
    "# 실행 및 결과 출력\n",
    "answer = chain.stream(question)\n",
    "stream_response(answer)"
   ],
   "id": "429523c98276f2f3",
   "outputs": [
    {
     "name": "stdout",
     "output_type": "stream",
     "text": [
      "회의록: ABC 기술 회사 제품 개발 팀 주간 진행 상황 회의\n",
      "일시: 2023년 12월 26일\n",
      "장소: ABC 기술 회사 회의실\n",
      "참석자: 최현수 (프로젝트 매니저), 황지연 (주요 개발자), 김태영 (UI/UX 디자이너)\n",
      "\n",
      "1. 개회\n",
      "   - 최현수 프로젝트 매니저가 회의를 개회하고, 회의의 목적을 설명함.\n",
      "   - 목적: 프로젝트의 현재 진행 상황 검토 및 다가오는 마일스톤에 대한 계획 수립.\n",
      "\n",
      "2. 프로젝트 진행 상황 보고\n",
      "   - 황지연 개발자가 개발 진행 상황에 대해 보고.\n",
      "     - 현재 개발 중인 기능들의 상태와 최근 해결된 문제점들을 공유.\n",
      "     - 다음 주까지 완료 목표로 설정한 기능들을 명시.\n",
      "   - 김태영 디자이너가 UI/UX 디자인 진행 상황에 대해 보고.\n",
      "     - 최근 완성된 디자인 요소들과 사용자 피드백을 바탕으로 한 개선 사항을 공유.\n",
      "     - 다음 단계의 디자인 작업 계획을 설명.\n",
      "\n",
      "3. 마일스톤 계획\n",
      "   - 최현수가 다가오는 마일스톤에 대한 전체적인 계획을 제시.\n",
      "     - 중요한 날짜와 목표들을 확인하고, 각 팀원의 역할과 기대 결과를 명확히 함.\n",
      "   - 팀원들이 각자의 업무에 대해 피드백을 주고받음.\n",
      "\n",
      "4. 다음 주 목표 설정\n",
      "   - 각 팀원이 다음 주까지의 구체적인 목표를 설정.\n",
      "     - 황지연은 특정 기능 개발 완료.\n",
      "     - 김태영은 사용자 인터페이스의 특정 부분 디자인 완성.\n",
      "\n",
      "5. 마무리\n",
      "   - 다음 회의 날짜 및 시간 확정.\n",
      "   - 회의록 정리 및 배포는 최현수 매니저가 담당.\n",
      "\n",
      "회의는 모든 안건이 충분히 논의되고 각 팀원의 다음 주 목표가 명확히 설정된 후 종료됨."
     ]
    }
   ],
   "execution_count": 106
  },
  {
   "metadata": {},
   "cell_type": "markdown",
   "source": "## Example Selector 의 유사도 검색 문제 해결",
   "id": "1cae32597376fbc0"
  },
  {
   "metadata": {},
   "cell_type": "markdown",
   "source": [
    "유사도 계산시 instruction 과 input 을 사용하고 있습니다. 하지만, instruction 만 사용하여 검색시 제대로된 유사도 결과가 나오지 않습니다.\n",
    "\n",
    "이를 해결하기 위해 커스텀 유사도 계산을 위한 클래스를 정의합니다. 아래는 잘못 검색된 결과의 예시입니다."
   ],
   "id": "54b0257b2d92a48b"
  },
  {
   "metadata": {
    "ExecuteTime": {
     "end_time": "2025-10-31T15:50:44.997396Z",
     "start_time": "2025-10-31T15:50:44.374266Z"
    }
   },
   "cell_type": "code",
   "source": [
    "question = {\n",
    "    \"instruction\": \"회의록을 작성해 주세요\",\n",
    "}\n",
    "\n",
    "example_selector.select_examples(question)\n"
   ],
   "id": "3bafb03ca400e35",
   "outputs": [
    {
     "data": {
      "text/plain": [
       "[{'answer': '본 회사는 새로운 마케팅 전략을 도입함으로써, 고객과의 소통을 보다 효과적으로 개선할 수 있을 것으로 기대된다.',\n",
       "  'input': '우리 회사는 새로운 마케팅 전략을 도입하려고 한다. 이를 통해 고객과의 소통이 더 효과적이 될 것이다.',\n",
       "  'instruction': '당신은 문장 교정 전문가 입니다. 다음 주어진 문장을 교정해 주세요'}]"
      ]
     },
     "execution_count": 107,
     "metadata": {},
     "output_type": "execute_result"
    }
   ],
   "execution_count": 107
  },
  {
   "metadata": {
    "ExecuteTime": {
     "end_time": "2025-10-31T15:52:04.660486Z",
     "start_time": "2025-10-31T15:52:04.088686Z"
    }
   },
   "cell_type": "code",
   "source": [
    "# 커스텀 하지 않은 기본 예제 선택기를 사용했을 때 결과\n",
    "example_selector.select_examples({\"instruction\": \"다음 문장을 요약해 주세요\"})\n"
   ],
   "id": "72cbe70f5911a635",
   "outputs": [
    {
     "data": {
      "text/plain": [
       "[{'answer': '본 회사는 새로운 마케팅 전략을 도입함으로써, 고객과의 소통을 보다 효과적으로 개선할 수 있을 것으로 기대된다.',\n",
       "  'input': '우리 회사는 새로운 마케팅 전략을 도입하려고 한다. 이를 통해 고객과의 소통이 더 효과적이 될 것이다.',\n",
       "  'instruction': '당신은 문장 교정 전문가 입니다. 다음 주어진 문장을 교정해 주세요'}]"
      ]
     },
     "execution_count": 108,
     "metadata": {},
     "output_type": "execute_result"
    }
   ],
   "execution_count": 108
  },
  {
   "metadata": {
    "ExecuteTime": {
     "end_time": "2025-10-31T15:52:17.527451Z",
     "start_time": "2025-10-31T15:52:15.207104Z"
    }
   },
   "cell_type": "code",
   "source": [
    "from langchain_teddynote.prompts import CustomExampleSelector\n",
    "\n",
    "# 커스텀 예제 선택기 생성\n",
    "custom_selector = CustomExampleSelector(examples, OpenAIEmbeddings())\n",
    "\n",
    "# 커스텀 예제 선택기를 사용했을 때 결과\n",
    "custom_selector.select_examples({\"instruction\": \"다음 문장을 교정 작성해 주세요\"})"
   ],
   "id": "937461127bb50c76",
   "outputs": [
    {
     "data": {
      "text/plain": [
       "[{'instruction': '당신은 문장 교정 전문가 입니다. 다음 주어진 문장을 교정해 주세요',\n",
       "  'input': '우리 회사는 새로운 마케팅 전략을 도입하려고 한다. 이를 통해 고객과의 소통이 더 효과적이 될 것이다.',\n",
       "  'answer': '본 회사는 새로운 마케팅 전략을 도입함으로써, 고객과의 소통을 보다 효과적으로 개선할 수 있을 것으로 기대된다.'}]"
      ]
     },
     "execution_count": 109,
     "metadata": {},
     "output_type": "execute_result"
    }
   ],
   "execution_count": 109
  },
  {
   "metadata": {
    "ExecuteTime": {
     "end_time": "2025-10-31T15:52:36.261752Z",
     "start_time": "2025-10-31T15:52:36.249542Z"
    }
   },
   "cell_type": "code",
   "source": [
    "example_prompt = ChatPromptTemplate.from_messages(\n",
    "    [\n",
    "        (\"human\", \"{instruction}:\\n{input}\"),\n",
    "        (\"ai\", \"{answer}\"),\n",
    "    ]\n",
    ")\n",
    "\n",
    "custom_fewshot_prompt = FewShotChatMessagePromptTemplate(\n",
    "    example_selector=custom_selector,  # 커스텀 예제 선택기 사용\n",
    "    example_prompt=example_prompt,  # 예제 프롬프트 사용\n",
    ")\n",
    "\n",
    "custom_prompt = ChatPromptTemplate.from_messages(\n",
    "    [\n",
    "        (\n",
    "            \"system\",\n",
    "            \"You are a helpful assistant.\",\n",
    "        ),\n",
    "        custom_fewshot_prompt,\n",
    "        (\"human\", \"{instruction}\\n{input}\"),\n",
    "    ]\n",
    ")\n"
   ],
   "id": "a2f393718e1deda5",
   "outputs": [],
   "execution_count": 110
  },
  {
   "metadata": {
    "ExecuteTime": {
     "end_time": "2025-10-31T15:52:41.813536Z",
     "start_time": "2025-10-31T15:52:41.805323Z"
    }
   },
   "cell_type": "code",
   "source": [
    "# chain 을 생성합니다.\n",
    "chain = custom_prompt | llm\n"
   ],
   "id": "ee7b3efd22688568",
   "outputs": [],
   "execution_count": 111
  },
  {
   "metadata": {
    "ExecuteTime": {
     "end_time": "2025-10-31T15:53:29.373474Z",
     "start_time": "2025-10-31T15:53:11.461634Z"
    }
   },
   "cell_type": "code",
   "source": [
    "question = {\n",
    "    \"instruction\": \"회의록을 작성해 주세요\",\n",
    "    \"input\": \"2023년 12월 26일, ABC 기술 회사의 제품 개발 팀은 새로운 모바일 애플리케이션 프로젝트에 대한 주간 진행 상황 회의를 가졌다. 이 회의에는 프로젝트 매니저인 최현수, 주요 개발자인 황지연, UI/UX 디자이너인 김태영이 참석했다. 회의의 주요 목적은 프로젝트의 현재 진행 상황을 검토하고, 다가오는 마일스톤에 대한 계획을 수립하는 것이었다. 각 팀원은 자신의 작업 영역에 대한 업데이트를 제공했고, 팀은 다음 주까지의 목표를 설정했다.\",\n",
    "}\n",
    "\n",
    "# 실행 및 결과 출력\n",
    "stream_response(chain.stream(question))\n"
   ],
   "id": "9ea606719fed91cd",
   "outputs": [
    {
     "name": "stdout",
     "output_type": "stream",
     "text": [
      "회의록: ABC 기술 회사 제품 개발 팀 주간 진행 상황 회의\n",
      "일시: 2023년 12월 26일\n",
      "장소: ABC 기술 회사 회의실\n",
      "참석자: 최현수 (프로젝트 매니저), 황지연 (주요 개발자), 김태영 (UI/UX 디자이너)\n",
      "\n",
      "1. 개회\n",
      "   - 최현수 프로젝트 매니저가 회의를 개회하고, 회의의 목적을 설명함.\n",
      "   - 목적: 프로젝트의 현재 진행 상황 검토 및 다가오는 마일스톤에 대한 계획 수립.\n",
      "\n",
      "2. 프로젝트 진행 상황 보고\n",
      "   - 황지연 개발자가 개발 진행 상황에 대해 보고.\n",
      "     - 현재 개발 중인 기능들의 진행 상태와 예상 완료 시점 공유.\n",
      "     - 최근 해결된 주요 버그와 남아있는 이슈에 대해 논의.\n",
      "   - 김태영 디자이너가 UI/UX 디자인 진행 상황에 대해 보고.\n",
      "     - 새로운 디자인 요소의 구현 상태와 사용자 피드백에 대한 개요 제공.\n",
      "     - 다음 단계의 디자인 개선 계획 발표.\n",
      "\n",
      "3. 다가오는 마일스톤 계획\n",
      "   - 최현수가 다음 주까지의 목표와 마일스톤을 설정.\n",
      "     - 개발 팀은 주요 기능의 베타 버전 완성을 목표로 함.\n",
      "     - 디자인 팀은 최종 사용자 테스트를 위한 디자인 수정을 완료할 계획.\n",
      "\n",
      "4. 문제점 및 해결 방안 논의\n",
      "   - 팀원들이 현재 직면한 문제점들을 공유하고 해결 방안을 모색.\n",
      "   - 자원 배분과 일정 조정에 대한 필요성 논의.\n",
      "\n",
      "5. 다음 회의 일정\n",
      "   - 다음 주간 진행 상황 회의는 다음 주 월요일 같은 시간에 진행하기로 합의.\n",
      "\n",
      "6. 마무리\n",
      "   - 최현수 매니저가 회의를 마무리하며, 모든 팀원에게 각자의 업무에 최선을 다할 것을 당부.\n",
      "\n",
      "회의록 작성자: 최현수\n",
      "회의록 승인: 최현수 (프로젝트 매니저)"
     ]
    }
   ],
   "execution_count": 113
  },
  {
   "metadata": {
    "ExecuteTime": {
     "end_time": "2025-10-31T15:53:41.995712Z",
     "start_time": "2025-10-31T15:53:29.380490Z"
    }
   },
   "cell_type": "code",
   "source": [
    "question = {\n",
    "    \"instruction\": \"문서를 요약해 주세요\",\n",
    "    \"input\": \"이 문서는 '2023년 글로벌 경제 전망'에 관한 30페이지에 달하는 상세한 보고서입니다. 보고서는 세계 경제의 현재 상태, 주요 국가들의 경제 성장률, 글로벌 무역 동향, 그리고 다가오는 해에 대한 경제 예측을 다룹니다. 이 보고서는 또한 다양한 경제적, 정치적, 환경적 요인들이 세계 경제에 미칠 영향을 분석하고 있습니다.\",\n",
    "}\n",
    "\n",
    "# 실행 및 결과 출력\n",
    "stream_response(chain.stream(question))\n"
   ],
   "id": "682ef52a01214220",
   "outputs": [
    {
     "name": "stdout",
     "output_type": "stream",
     "text": [
      "문서 요약: 2023년 글로벌 경제 전망 보고서\n",
      "\n",
      "- 현재 상태: 세계 경제의 현재 상황에 대한 분석을 제공하며, 경제 회복의 진행 상황과 주요 도전 과제를 설명.\n",
      "- 경제 성장률: 주요 국가들의 경제 성장률을 검토하고, 각 국가의 경제 상황에 대한 상세한 정보를 제공.\n",
      "- 글로벌 무역: 현재의 글로벌 무역 동향을 분석하고, 무역 정책 변화와 그 영향을 평가.\n",
      "- 경제 예측: 2023년에 대한 경제 예측을 제시하며, 성장 전망과 가능한 위험 요소들을 고려.\n",
      "- 영향 분석: 경제적, 정치적, 환경적 요인들이 세계 경제에 미칠 영향을 심층 분석.\n",
      "\n",
      "이 보고서는 다가오는 해의 글로벌 경제 상황에 대한 포괄적인 이해를 돕기 위해 다양한 요인들을 종합적으로 검토하고 있습니다."
     ]
    }
   ],
   "execution_count": 114
  },
  {
   "metadata": {
    "ExecuteTime": {
     "end_time": "2025-10-31T15:53:50.623070Z",
     "start_time": "2025-10-31T15:53:48.404344Z"
    }
   },
   "cell_type": "code",
   "source": [
    "question = {\n",
    "    \"instruction\": \"문장을 교정해 주세요\",\n",
    "    \"input\": \"회사는 올해 매출이 증가할 것으로 예상한다. 새로운 전략이 잘 작동하고 있다.\",\n",
    "}\n",
    "\n",
    "# 실행 및 결과 출력\n",
    "stream_response(chain.stream(question))\n"
   ],
   "id": "dddf7d8ffbdd357e",
   "outputs": [
    {
     "name": "stdout",
     "output_type": "stream",
     "text": [
      "회사는 올해 매출이 증가할 것으로 예상하고 있다. 새로운 전략이 효과적으로 작동하고 있기 때문이다."
     ]
    }
   ],
   "execution_count": 115
  },
  {
   "metadata": {},
   "cell_type": "markdown",
   "source": "# 03. LangChain Hub",
   "id": "2131325d40c97692"
  },
  {
   "metadata": {
    "ExecuteTime": {
     "end_time": "2025-10-31T15:54:50.961583Z",
     "start_time": "2025-10-31T15:54:49.056891Z"
    }
   },
   "cell_type": "code",
   "source": [
    "from langchain import hub\n",
    "\n",
    "# 가장 최신 버전의 프롬프트를 가져옵니다.\n",
    "prompt = hub.pull(\"rlm/rag-prompt\")\n"
   ],
   "id": "d10608b35dfa9ca9",
   "outputs": [],
   "execution_count": 116
  },
  {
   "metadata": {
    "ExecuteTime": {
     "end_time": "2025-10-31T15:54:56.050634Z",
     "start_time": "2025-10-31T15:54:56.041519Z"
    }
   },
   "cell_type": "code",
   "source": [
    "# 프롬프트 내용 출력\n",
    "print(prompt)\n"
   ],
   "id": "7d056f2f78dfb69",
   "outputs": [
    {
     "name": "stdout",
     "output_type": "stream",
     "text": [
      "input_variables=['context', 'question'] input_types={} partial_variables={} metadata={'lc_hub_owner': 'rlm', 'lc_hub_repo': 'rag-prompt', 'lc_hub_commit_hash': '50442af133e61576e74536c6556cefe1fac147cad032f4377b60c436e6cdcb6e'} messages=[HumanMessagePromptTemplate(prompt=PromptTemplate(input_variables=['context', 'question'], input_types={}, partial_variables={}, template=\"You are an assistant for question-answering tasks. Use the following pieces of retrieved context to answer the question. If you don't know the answer, just say that you don't know. Use three sentences maximum and keep the answer concise.\\nQuestion: {question} \\nContext: {context} \\nAnswer:\"), additional_kwargs={})]\n"
     ]
    }
   ],
   "execution_count": 117
  },
  {
   "metadata": {
    "ExecuteTime": {
     "end_time": "2025-10-31T15:55:28.986124Z",
     "start_time": "2025-10-31T15:55:27.049037Z"
    }
   },
   "cell_type": "code",
   "source": [
    "# 특정 버전의 프롬프트를 가져오려면 버전 해시를 지정하세요\n",
    "prompt = hub.pull(\"rlm/rag-prompt:50442af1\")\n",
    "prompt\n"
   ],
   "id": "401e5f1375ed0f81",
   "outputs": [
    {
     "data": {
      "text/plain": [
       "ChatPromptTemplate(input_variables=['context', 'question'], input_types={}, partial_variables={}, metadata={'lc_hub_owner': 'rlm', 'lc_hub_repo': 'rag-prompt', 'lc_hub_commit_hash': '50442af133e61576e74536c6556cefe1fac147cad032f4377b60c436e6cdcb6e'}, messages=[HumanMessagePromptTemplate(prompt=PromptTemplate(input_variables=['context', 'question'], input_types={}, partial_variables={}, template=\"You are an assistant for question-answering tasks. Use the following pieces of retrieved context to answer the question. If you don't know the answer, just say that you don't know. Use three sentences maximum and keep the answer concise.\\nQuestion: {question} \\nContext: {context} \\nAnswer:\"), additional_kwargs={})])"
      ]
     },
     "execution_count": 118,
     "metadata": {},
     "output_type": "execute_result"
    }
   ],
   "execution_count": 118
  },
  {
   "metadata": {},
   "cell_type": "markdown",
   "source": "## Prompt Hub 에 자신의 프롬프트 등록",
   "id": "5a58e17bbd57422c"
  },
  {
   "metadata": {
    "ExecuteTime": {
     "end_time": "2025-10-31T15:57:16.134662Z",
     "start_time": "2025-10-31T15:57:16.128250Z"
    }
   },
   "cell_type": "code",
   "source": [
    "from langchain.prompts import ChatPromptTemplate\n",
    "\n",
    "\n",
    "prompt = ChatPromptTemplate.from_template(\n",
    "    \"주어진 내용을 바탕으로 F1에 대한 전반적인 지식을 바탕으로 내용을 비유하고 구조화하세요. 답변은 반드시 한글로 작성하되 고유명사는 영어를 허용합니다.\\n\\nCONTEXT: {context}\\n\\nSUMMARY:\"\n",
    ")\n",
    "prompt"
   ],
   "id": "485449d4a1b63cde",
   "outputs": [
    {
     "data": {
      "text/plain": [
       "ChatPromptTemplate(input_variables=['context'], input_types={}, partial_variables={}, messages=[HumanMessagePromptTemplate(prompt=PromptTemplate(input_variables=['context'], input_types={}, partial_variables={}, template='주어진 내용을 바탕으로 F1에 대한 전반적인 지식을 바탕으로 내용을 비유하고 구조화하세요. 답변은 반드시 한글로 작성하되 고유명사는 영어를 허용합니다.\\n\\nCONTEXT: {context}\\n\\nSUMMARY:'), additional_kwargs={})])"
      ]
     },
     "execution_count": 120,
     "metadata": {},
     "output_type": "execute_result"
    }
   ],
   "execution_count": 120
  },
  {
   "metadata": {
    "ExecuteTime": {
     "end_time": "2025-10-31T16:14:34.922297Z",
     "start_time": "2025-10-31T16:14:31.174207Z"
    }
   },
   "cell_type": "code",
   "source": [
    "from langchain import hub\n",
    "\n",
    "# 프롬프트를 허브에 업로드합니다.\n",
    "hub.push(\"simple-summary-korean-f1\", prompt)"
   ],
   "id": "46c6182e1db155e5",
   "outputs": [
    {
     "data": {
      "text/plain": [
       "'https://smith.langchain.com/prompts/simple-summary-korean-f1/b009d115?organizationId=9437d3d5-0cd1-400d-8617-92cc576bb86a'"
      ]
     },
     "execution_count": 127,
     "metadata": {},
     "output_type": "execute_result"
    }
   ],
   "execution_count": 127
  },
  {
   "metadata": {
    "ExecuteTime": {
     "end_time": "2025-10-31T16:15:14.446217Z",
     "start_time": "2025-10-31T16:15:13.191903Z"
    }
   },
   "cell_type": "code",
   "source": [
    "from langchain import hub\n",
    "\n",
    "# 프롬프트를 허브로부터 가져옵니다.\n",
    "pulled_prompt = hub.pull(\"simple-summary-korean-f1\")"
   ],
   "id": "cbc0891be8a912f3",
   "outputs": [],
   "execution_count": 128
  },
  {
   "metadata": {
    "ExecuteTime": {
     "end_time": "2025-10-31T16:15:18.653880Z",
     "start_time": "2025-10-31T16:15:18.649876Z"
    }
   },
   "cell_type": "code",
   "source": [
    "# 프롬프트 내용 출력\n",
    "print(pulled_prompt)"
   ],
   "id": "6dadd5d4aaf683b7",
   "outputs": [
    {
     "name": "stdout",
     "output_type": "stream",
     "text": [
      "input_variables=['context'] input_types={} partial_variables={} metadata={'lc_hub_owner': '-', 'lc_hub_repo': 'simple-summary-korean-f1', 'lc_hub_commit_hash': 'b009d115a13fd73945432957ca54a886bb2426e0f9dd3c3d8d0cbd37a049eff8'} messages=[HumanMessagePromptTemplate(prompt=PromptTemplate(input_variables=['context'], input_types={}, partial_variables={}, template='주어진 내용을 바탕으로 F1에 대한 전반적인 지식을 바탕으로 내용을 비유하고 구조화하세요. 답변은 반드시 한글로 작성하되 고유명사는 영어를 허용합니다.\\n\\nCONTEXT: {context}\\n\\nSUMMARY:'), additional_kwargs={})]\n"
     ]
    }
   ],
   "execution_count": 129
  },
  {
   "metadata": {},
   "cell_type": "markdown",
   "source": "# 04. 개인화된 프롬프트(Hub에 업로드)",
   "id": "827b33e9eb189f8d"
  },
  {
   "metadata": {
    "ExecuteTime": {
     "end_time": "2025-10-31T16:19:26.908110Z",
     "start_time": "2025-10-31T16:19:26.904111Z"
    }
   },
   "cell_type": "code",
   "source": [
    "# Owner 지정\n",
    "PROMPT_OWNER = \"junu\""
   ],
   "id": "fbd6eeaca77d3e7b",
   "outputs": [],
   "execution_count": 131
  },
  {
   "metadata": {
    "ExecuteTime": {
     "end_time": "2025-10-31T16:19:30.220804Z",
     "start_time": "2025-10-31T16:19:30.213365Z"
    }
   },
   "cell_type": "code",
   "source": [
    "from langchain import hub\n",
    "from langchain.prompts import PromptTemplate\n",
    "\n",
    "prompt_title = \"summary-stuff-documents\"\n",
    "\n",
    "# 요약문을 작성하기 위한 프롬프트 정의 (직접 프롬프트를 작성하는 경우)\n",
    "prompt_template = \"\"\"Please summarize the sentence according to the following REQUEST.\n",
    "REQUEST:\n",
    "1. Summarize the main points in bullet points.\n",
    "2. Each summarized sentence must start with an emoji that fits the meaning of the each sentence.\n",
    "3. Use various emojis to make the summary more interesting.\n",
    "4. DO NOT include any unnecessary information.\n",
    "\n",
    "CONTEXT:\n",
    "{context}\n",
    "\n",
    "SUMMARY:\"\n",
    "\"\"\"\n",
    "prompt = PromptTemplate.from_template(prompt_template)\n",
    "prompt\n"
   ],
   "id": "f43601721443aaa",
   "outputs": [
    {
     "data": {
      "text/plain": [
       "PromptTemplate(input_variables=['context'], input_types={}, partial_variables={}, template='Please summarize the sentence according to the following REQUEST.\\nREQUEST:\\n1. Summarize the main points in bullet points.\\n2. Each summarized sentence must start with an emoji that fits the meaning of the each sentence.\\n3. Use various emojis to make the summary more interesting.\\n4. DO NOT include any unnecessary information.\\n\\nCONTEXT:\\n{context}\\n\\nSUMMARY:\"\\n')"
      ]
     },
     "execution_count": 132,
     "metadata": {},
     "output_type": "execute_result"
    }
   ],
   "execution_count": 132
  },
  {
   "metadata": {
    "ExecuteTime": {
     "end_time": "2025-10-31T16:20:21.127394Z",
     "start_time": "2025-10-31T16:20:16.365575Z"
    }
   },
   "cell_type": "code",
   "source": "hub.push(f\"{prompt_title}\", prompt)",
   "id": "44cb14c31a19827c",
   "outputs": [
    {
     "data": {
      "text/plain": [
       "'https://smith.langchain.com/prompts/summary-stuff-documents/ccf1dc3e?organizationId=9437d3d5-0cd1-400d-8617-92cc576bb86a'"
      ]
     },
     "execution_count": 134,
     "metadata": {},
     "output_type": "execute_result"
    }
   ],
   "execution_count": 134
  },
  {
   "metadata": {},
   "cell_type": "markdown",
   "source": "## Map Prompt",
   "id": "77e90b65b1f8624a"
  },
  {
   "metadata": {
    "ExecuteTime": {
     "end_time": "2025-10-31T16:20:38.229410Z",
     "start_time": "2025-10-31T16:20:38.222195Z"
    }
   },
   "cell_type": "code",
   "source": [
    "from langchain import hub\n",
    "from langchain.prompts import PromptTemplate\n",
    "\n",
    "prompt_title = \"map-prompt\"\n",
    "\n",
    "# 요약문을 작성하기 위한 프롬프트 정의 (직접 프롬프트를 작성하는 경우)\n",
    "prompt_template = \"\"\"You are a helpful expert journalist in extracting the main themes from a GIVEN DOCUMENTS below.\n",
    "Please provide a comprehensive summary of the GIVEN DOCUMENTS in numbered list format.\n",
    "The summary should cover all the key points and main ideas presented in the original text, while also condensing the information into a concise and easy-to-understand format.\n",
    "Please ensure that the summary includes relevant details and examples that support the main ideas, while avoiding any unnecessary information or repetition.\n",
    "The length of the summary should be appropriate for the length and complexity of the original text, providing a clear and accurate overview without omitting any important information.\n",
    "\n",
    "GIVEN DOCUMENTS:\n",
    "{docs}\n",
    "\n",
    "FORMAT:\n",
    "1. main theme 1\n",
    "2. main theme 2\n",
    "3. main theme 3\n",
    "...\n",
    "\n",
    "CAUTION:\n",
    "- DO NOT list more than 5 main themes.\n",
    "\n",
    "Helpful Answer:\n",
    "\"\"\"\n",
    "prompt = PromptTemplate.from_template(prompt_template)\n",
    "prompt\n"
   ],
   "id": "82cd53c84f37e0e8",
   "outputs": [
    {
     "data": {
      "text/plain": [
       "PromptTemplate(input_variables=['docs'], input_types={}, partial_variables={}, template='You are a helpful expert journalist in extracting the main themes from a GIVEN DOCUMENTS below.\\nPlease provide a comprehensive summary of the GIVEN DOCUMENTS in numbered list format. \\nThe summary should cover all the key points and main ideas presented in the original text, while also condensing the information into a concise and easy-to-understand format. \\nPlease ensure that the summary includes relevant details and examples that support the main ideas, while avoiding any unnecessary information or repetition. \\nThe length of the summary should be appropriate for the length and complexity of the original text, providing a clear and accurate overview without omitting any important information.\\n\\nGIVEN DOCUMENTS:\\n{docs}\\n\\nFORMAT:\\n1. main theme 1\\n2. main theme 2\\n3. main theme 3\\n...\\n\\nCAUTION:\\n- DO NOT list more than 5 main themes.\\n\\nHelpful Answer:\\n')"
      ]
     },
     "execution_count": 135,
     "metadata": {},
     "output_type": "execute_result"
    }
   ],
   "execution_count": 135
  },
  {
   "metadata": {
    "ExecuteTime": {
     "end_time": "2025-10-31T16:20:51.244205Z",
     "start_time": "2025-10-31T16:20:47.102315Z"
    }
   },
   "cell_type": "code",
   "source": "hub.push(f\"{prompt_title}\", prompt)\n",
   "id": "3a2bb066b076354",
   "outputs": [
    {
     "data": {
      "text/plain": [
       "'https://smith.langchain.com/prompts/map-prompt/28669aaf?organizationId=9437d3d5-0cd1-400d-8617-92cc576bb86a'"
      ]
     },
     "execution_count": 136,
     "metadata": {},
     "output_type": "execute_result"
    }
   ],
   "execution_count": 136
  },
  {
   "metadata": {},
   "cell_type": "markdown",
   "source": "## Reduce Prompt",
   "id": "528920e162b69235"
  },
  {
   "metadata": {
    "ExecuteTime": {
     "end_time": "2025-10-31T16:21:29.352579Z",
     "start_time": "2025-10-31T16:21:29.345962Z"
    }
   },
   "cell_type": "code",
   "source": [
    "from langchain import hub\n",
    "from langchain.prompts import PromptTemplate\n",
    "\n",
    "prompt_title = \"reduce-prompt\"\n",
    "\n",
    "# 요약문을 작성하기 위한 프롬프트 정의 (직접 프롬프트를 작성하는 경우)\n",
    "prompt_template = \"\"\"You are a helpful expert in summary writing.\n",
    "You are given numbered lists of summaries.\n",
    "Extract top 10 most important insights from the summaries.\n",
    "Then, write a summary of the insights in KOREAN.\n",
    "\n",
    "LIST OF SUMMARIES:\n",
    "{doc_summaries}\n",
    "\n",
    "Helpful Answer:\n",
    "\"\"\"\n",
    "prompt = PromptTemplate.from_template(prompt_template)\n",
    "prompt\n"
   ],
   "id": "1916884fc5e3f3dc",
   "outputs": [
    {
     "data": {
      "text/plain": [
       "PromptTemplate(input_variables=['doc_summaries'], input_types={}, partial_variables={}, template='You are a helpful expert in summary writing.\\nYou are given numbered lists of summaries.\\nExtract top 10 most important insights from the summaries.\\nThen, write a summary of the insights in KOREAN.\\n\\nLIST OF SUMMARIES:\\n{doc_summaries}\\n\\nHelpful Answer:\\n')"
      ]
     },
     "execution_count": 138,
     "metadata": {},
     "output_type": "execute_result"
    }
   ],
   "execution_count": 138
  },
  {
   "metadata": {
    "ExecuteTime": {
     "end_time": "2025-10-31T16:21:49.953050Z",
     "start_time": "2025-10-31T16:21:46.065100Z"
    }
   },
   "cell_type": "code",
   "source": "hub.push(f\"{prompt_title}\", prompt)\n",
   "id": "955e2afb1744a6fb",
   "outputs": [
    {
     "data": {
      "text/plain": [
       "'https://smith.langchain.com/prompts/reduce-prompt/5c5d853c?organizationId=9437d3d5-0cd1-400d-8617-92cc576bb86a'"
      ]
     },
     "execution_count": 140,
     "metadata": {},
     "output_type": "execute_result"
    }
   ],
   "execution_count": 140
  },
  {
   "metadata": {
    "ExecuteTime": {
     "end_time": "2025-10-31T16:21:49.972253Z",
     "start_time": "2025-10-31T16:21:49.967183Z"
    }
   },
   "cell_type": "code",
   "source": [
    "from langchain import hub\n",
    "from langchain.prompts import PromptTemplate\n",
    "\n",
    "prompt_title = \"chain-of-density-reduce-korean\"\n",
    "\n",
    "# 요약문을 작성하기 위한 프롬프트 정의 (직접 프롬프트를 작성하는 경우)\n",
    "prompt_template = \"\"\"You are a helpful expert in summary writing. You are given lists of summaries.\n",
    "Please sum up previously summarized sentences according to the following REQUEST.\n",
    "REQUEST:\n",
    "1. Summarize the main points in bullet points in KOREAN.\n",
    "2. Each summarized sentence must start with an emoji that fits the meaning of the each sentence.\n",
    "3. Use various emojis to make the summary more interesting.\n",
    "4. MOST IMPORTANT points should be organized at the top of the list.\n",
    "5. DO NOT include any unnecessary information.\n",
    "\n",
    "LIST OF SUMMARIES:\n",
    "{doc_summaries}\n",
    "\n",
    "Helpful Answer: \"\"\"\n",
    "prompt = PromptTemplate.from_template(prompt_template)\n",
    "prompt\n"
   ],
   "id": "698a521dc3f50050",
   "outputs": [
    {
     "data": {
      "text/plain": [
       "PromptTemplate(input_variables=['doc_summaries'], input_types={}, partial_variables={}, template='You are a helpful expert in summary writing. You are given lists of summaries.\\nPlease sum up previously summarized sentences according to the following REQUEST.\\nREQUEST:\\n1. Summarize the main points in bullet points in KOREAN.\\n2. Each summarized sentence must start with an emoji that fits the meaning of the each sentence.\\n3. Use various emojis to make the summary more interesting.\\n4. MOST IMPORTANT points should be organized at the top of the list.\\n5. DO NOT include any unnecessary information.\\n\\nLIST OF SUMMARIES:\\n{doc_summaries}\\n\\nHelpful Answer: ')"
      ]
     },
     "execution_count": 141,
     "metadata": {},
     "output_type": "execute_result"
    }
   ],
   "execution_count": 141
  },
  {
   "metadata": {
    "ExecuteTime": {
     "end_time": "2025-10-31T16:22:02.653840Z",
     "start_time": "2025-10-31T16:21:58.288789Z"
    }
   },
   "cell_type": "code",
   "source": "hub.push(f\"{prompt_title}\", prompt)",
   "id": "6bec6bd3e6b24f48",
   "outputs": [
    {
     "data": {
      "text/plain": [
       "'https://smith.langchain.com/prompts/chain-of-density-reduce-korean/45d0ab93?organizationId=9437d3d5-0cd1-400d-8617-92cc576bb86a'"
      ]
     },
     "execution_count": 142,
     "metadata": {},
     "output_type": "execute_result"
    }
   ],
   "execution_count": 142
  },
  {
   "metadata": {},
   "cell_type": "markdown",
   "source": "## Metadata Tagger",
   "id": "abc0359092768e82"
  },
  {
   "metadata": {
    "ExecuteTime": {
     "end_time": "2025-10-31T16:22:10.432196Z",
     "start_time": "2025-10-31T16:22:10.424708Z"
    }
   },
   "cell_type": "code",
   "source": [
    "from langchain import hub\n",
    "from langchain.prompts import ChatPromptTemplate\n",
    "\n",
    "prompt_title = \"metadata-tagger\"\n",
    "\n",
    "# 요약문을 작성하기 위한 프롬프트 정의 (직접 프롬프트를 작성하는 경우)\n",
    "prompt_template = \"\"\"Given the following product review, conduct a comprehensive analysis to extract key aspects mentioned by the customer, with a focus on evaluating the product's design and distinguishing between positive aspects and areas for improvement.\n",
    "Identify primary features or attributes of the product that the customer appreciated or highlighted, specifically looking for mentions related to the feel of the keys, sound produced by the keys, overall user experience, charging aspect, and the design of the product, etc.\n",
    "Assess the overall tone of the review (positive, neutral, or negative) based on the sentiment expressed about these attributes.\n",
    "Additionally, provide a detailed evaluation of the design, outline the positive aspects that the customer enjoyed, and note any areas of improvement or disappointment mentioned.\n",
    "Extract the customer's rating of the product on a scale of 1 to 5, as indicated at the beginning of the review.\n",
    "Summarize your findings in a structured JSON format, including an array of keywords, evaluations for design, satisfaction points, improvement areas, the assessed tone, and the numerical rating.\n",
    "\n",
    "INPUT:\n",
    "{input}\n",
    "\n",
    "\"\"\"\n",
    "prompt = ChatPromptTemplate.from_template(prompt_template)\n",
    "prompt\n"
   ],
   "id": "b61dab46bacb70bb",
   "outputs": [
    {
     "data": {
      "text/plain": [
       "ChatPromptTemplate(input_variables=['input'], input_types={}, partial_variables={}, messages=[HumanMessagePromptTemplate(prompt=PromptTemplate(input_variables=['input'], input_types={}, partial_variables={}, template=\"Given the following product review, conduct a comprehensive analysis to extract key aspects mentioned by the customer, with a focus on evaluating the product's design and distinguishing between positive aspects and areas for improvement. \\nIdentify primary features or attributes of the product that the customer appreciated or highlighted, specifically looking for mentions related to the feel of the keys, sound produced by the keys, overall user experience, charging aspect, and the design of the product, etc. \\nAssess the overall tone of the review (positive, neutral, or negative) based on the sentiment expressed about these attributes. \\nAdditionally, provide a detailed evaluation of the design, outline the positive aspects that the customer enjoyed, and note any areas of improvement or disappointment mentioned. \\nExtract the customer's rating of the product on a scale of 1 to 5, as indicated at the beginning of the review. \\nSummarize your findings in a structured JSON format, including an array of keywords, evaluations for design, satisfaction points, improvement areas, the assessed tone, and the numerical rating. \\n\\nINPUT:\\n{input}\\n\\n\"), additional_kwargs={})])"
      ]
     },
     "execution_count": 143,
     "metadata": {},
     "output_type": "execute_result"
    }
   ],
   "execution_count": 143
  },
  {
   "metadata": {
    "ExecuteTime": {
     "end_time": "2025-10-31T16:22:23.539544Z",
     "start_time": "2025-10-31T16:22:19.499223Z"
    }
   },
   "cell_type": "code",
   "source": "hub.push(f\"{prompt_title}\", prompt)\n",
   "id": "4690be80e01304c1",
   "outputs": [
    {
     "data": {
      "text/plain": [
       "'https://smith.langchain.com/prompts/metadata-tagger/d5031809?organizationId=9437d3d5-0cd1-400d-8617-92cc576bb86a'"
      ]
     },
     "execution_count": 145,
     "metadata": {},
     "output_type": "execute_result"
    }
   ],
   "execution_count": 145
  },
  {
   "metadata": {},
   "cell_type": "markdown",
   "source": "## Chain of Density 요약",
   "id": "c45342941465166c"
  },
  {
   "metadata": {
    "ExecuteTime": {
     "end_time": "2025-10-31T16:22:36.505643Z",
     "start_time": "2025-10-31T16:22:36.501237Z"
    }
   },
   "cell_type": "code",
   "source": [
    "from langchain import hub\n",
    "from langchain.prompts import ChatPromptTemplate\n",
    "\n",
    "prompt_title = \"chain-of-density-korean\"\n",
    "\n",
    "# 요약문을 작성하기 위한 프롬프트 정의 (직접 프롬프트를 작성하는 경우)\n",
    "prompt = ChatPromptTemplate.from_template(\n",
    "    \"\"\"Article: {ARTICLE}\n",
    "You will generate increasingly concise, entity-dense summaries of the above article.\n",
    "\n",
    "Repeat the following 2 steps 5 times.\n",
    "\n",
    "Step 1. Identify 1-3 informative entities (\";\" delimited) from the article which are missing from the previously generated summary.\n",
    "Step 2. Write a new, denser summary of identical length which covers every entity and detail from the previous summary plus the missing entities.\n",
    "\n",
    "A missing entity is:\n",
    "- relevant to the main story,\n",
    "- specific yet concise (100 words or fewer),\n",
    "- novel (not in the previous summary),\n",
    "- faithful (present in the article),\n",
    "- anywhere (can be located anywhere in the article).\n",
    "\n",
    "Guidelines:\n",
    "\n",
    "- The first summary should be long (8-10 sentences, ~200 words) yet highly non-specific, containing little information beyond the entities marked as missing. Use overly verbose language and fillers (e.g., \"this article discusses\") to reach ~200 words.\n",
    "- Make every word count: rewrite the previous summary to improve flow and make space for additional entities.\n",
    "- Make space with fusion, compression, and removal of uninformative phrases like \"the article discusses\".\n",
    "- The summaries should become highly dense and concise yet self-contained, i.e., easily understood without the article.\n",
    "- Missing entities can appear anywhere in the new summary.\n",
    "- Never drop entities from the previous summary. If space cannot be made, add fewer new entities.\n",
    "\n",
    "Remember, use the exact same number of words for each summary.\n",
    "Answer in JSON. The JSON should be a list (length 5) of dictionaries whose keys are \"Missing_Entities\" and \"Denser_Summary\".\n",
    "Use only KOREAN language to reply.\"\"\"\n",
    ")\n"
   ],
   "id": "b76119615ff83a71",
   "outputs": [],
   "execution_count": 146
  },
  {
   "metadata": {
    "ExecuteTime": {
     "end_time": "2025-10-31T16:22:47.608379Z",
     "start_time": "2025-10-31T16:22:44.019043Z"
    }
   },
   "cell_type": "code",
   "source": "hub.push(f\"{prompt_title}\", prompt)",
   "id": "e6f5591acb62d4bb",
   "outputs": [
    {
     "data": {
      "text/plain": [
       "'https://smith.langchain.com/prompts/chain-of-density-korean/2d444953?organizationId=9437d3d5-0cd1-400d-8617-92cc576bb86a'"
      ]
     },
     "execution_count": 147,
     "metadata": {},
     "output_type": "execute_result"
    }
   ],
   "execution_count": 147
  },
  {
   "metadata": {},
   "cell_type": "markdown",
   "source": "## Chain of Density (Korean) - 2",
   "id": "5e6084c9332ccfd5"
  },
  {
   "metadata": {
    "ExecuteTime": {
     "end_time": "2025-10-31T16:22:58.191728Z",
     "start_time": "2025-10-31T16:22:58.185885Z"
    }
   },
   "cell_type": "code",
   "source": [
    "from langchain import hub\n",
    "from langchain.prompts import ChatPromptTemplate\n",
    "\n",
    "prompt_title = \"chain-of-density-map-korean\"\n",
    "\n",
    "# 요약문을 작성하기 위한 프롬프트 정의 (직접 프롬프트를 작성하는 경우)\n",
    "prompt = ChatPromptTemplate.from_template(\n",
    "    \"\"\"Article: {ARTICLE}\n",
    "You will generate increasingly concise, entity-dense summaries of the above article.\n",
    "\n",
    "Repeat the following 2 steps 3 times.\n",
    "\n",
    "Step 1. Identify 1-3 informative entities (\";\" delimited) from the article which are missing from the previously generated summary.\n",
    "Step 2. Write a new, denser summary of identical length which covers every entity and detail from the previous summary plus the missing entities.\n",
    "\n",
    "A missing entity is:\n",
    "- relevant to the main story,\n",
    "- specific yet concise (100 words or fewer),\n",
    "- novel (not in the previous summary),\n",
    "- faithful (present in the article),\n",
    "- anywhere (can be located anywhere in the article).\n",
    "\n",
    "Guidelines:\n",
    "\n",
    "- The first summary should be long (8-10 sentences, ~200 words) yet highly non-specific, containing little information beyond the entities marked as missing. Use overly verbose language and fillers (e.g., \"this article discusses\") to reach ~200 words.\n",
    "- Make every word count: rewrite the previous summary to improve flow and make space for additional entities.\n",
    "- Make space with fusion, compression, and removal of uninformative phrases like \"the article discusses\".\n",
    "- The summaries should become highly dense and concise yet self-contained, i.e., easily understood without the article.\n",
    "- Missing entities can appear anywhere in the new summary.\n",
    "- Never drop entities from the previous summary. If space cannot be made, add fewer new entities.\n",
    "\n",
    "Remember, use the exact same number of words for each summary.\n",
    "Answer \"Missing Entities\" and \"Denser_Summary\" as in TEXT format.\n",
    "Use only KOREAN language to reply.\"\"\"\n",
    ")\n"
   ],
   "id": "1b179390ecda1215",
   "outputs": [],
   "execution_count": 148
  },
  {
   "metadata": {
    "ExecuteTime": {
     "end_time": "2025-10-31T16:23:11.364002Z",
     "start_time": "2025-10-31T16:23:06.369194Z"
    }
   },
   "cell_type": "code",
   "source": "hub.push(f\"{prompt_title}\", prompt)",
   "id": "49f3d511a993ea07",
   "outputs": [
    {
     "data": {
      "text/plain": [
       "'https://smith.langchain.com/prompts/chain-of-density-map-korean/0b372530?organizationId=9437d3d5-0cd1-400d-8617-92cc576bb86a'"
      ]
     },
     "execution_count": 149,
     "metadata": {},
     "output_type": "execute_result"
    }
   ],
   "execution_count": 149
  },
  {
   "metadata": {},
   "cell_type": "markdown",
   "source": "## RAG 문서 프롬프트",
   "id": "56a1fb3d6dbd70e6"
  },
  {
   "metadata": {
    "ExecuteTime": {
     "end_time": "2025-10-31T16:23:20.460582Z",
     "start_time": "2025-10-31T16:23:20.456332Z"
    }
   },
   "cell_type": "code",
   "source": "prompt_title = \"rag-prompt-korean\"\n",
   "id": "35a36a75fd7537d7",
   "outputs": [],
   "execution_count": 150
  },
  {
   "metadata": {
    "ExecuteTime": {
     "end_time": "2025-10-31T16:23:24.591057Z",
     "start_time": "2025-10-31T16:23:24.586059Z"
    }
   },
   "cell_type": "code",
   "source": [
    "system = \"\"\"당신은 질문-답변(Question-Answering)을 수행하는 친절한 AI 어시스턴트입니다. 당신의 임무는 주어진 문맥(context) 에서 주어진 질문(question) 에 답하는 것입니다.\n",
    "검색된 다음 문맥(context) 을 사용하여 질문(question) 에 답하세요. 만약, 주어진 문맥(context) 에서 답을 찾을 수 없다면, 답을 모른다면 `주어진 정보에서 질문에 대한 정보를 찾을 수 없습니다` 라고 답하세요.\n",
    "한글로 답변해 주세요. 단, 기술적인 용어나 이름은 번역하지 않고 그대로 사용해 주세요. Don't narrate the answer, just answer the question. Let's think step-by-step.\"\"\"\n",
    "\n",
    "human = \"\"\"#Question:\n",
    "{question}\n",
    "\n",
    "#Context:\n",
    "{context}\n",
    "\n",
    "#Answer:\"\"\"\n",
    "\n",
    "from langchain.prompts import ChatPromptTemplate\n",
    "\n",
    "\n",
    "prompt = ChatPromptTemplate.from_messages([(\"system\", system), (\"human\", human)])\n"
   ],
   "id": "67caf988f854f4d1",
   "outputs": [],
   "execution_count": 151
  },
  {
   "metadata": {
    "ExecuteTime": {
     "end_time": "2025-10-31T16:23:36.250521Z",
     "start_time": "2025-10-31T16:23:31.880633Z"
    }
   },
   "cell_type": "code",
   "source": "hub.push(f\"{prompt_title}\", prompt, parent_commit_hash=\"latest\")",
   "id": "ce0b2479a92cc57a",
   "outputs": [
    {
     "data": {
      "text/plain": [
       "'https://smith.langchain.com/prompts/rag-prompt-korean/cbfb554c?organizationId=9437d3d5-0cd1-400d-8617-92cc576bb86a'"
      ]
     },
     "execution_count": 152,
     "metadata": {},
     "output_type": "execute_result"
    }
   ],
   "execution_count": 152
  },
  {
   "metadata": {},
   "cell_type": "code",
   "outputs": [],
   "execution_count": null,
   "source": "",
   "id": "27fbd7a5f1560f6d"
  }
 ],
 "metadata": {
  "kernelspec": {
   "display_name": "Python 3",
   "language": "python",
   "name": "python3"
  },
  "language_info": {
   "codemirror_mode": {
    "name": "ipython",
    "version": 2
   },
   "file_extension": ".py",
   "mimetype": "text/x-python",
   "name": "python",
   "nbconvert_exporter": "python",
   "pygments_lexer": "ipython2",
   "version": "2.7.6"
  }
 },
 "nbformat": 4,
 "nbformat_minor": 5
}
